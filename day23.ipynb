{
 "cells": [
  {
   "metadata": {},
   "cell_type": "markdown",
   "source": [
    "# 1. Positional Embedding trong Transformer\n",
    "Postional Embedding là một phương pháp để mã hóa thông tin về vị trí của các từ trong câu. Transformer không có cấu trúc tuần tự, do đó cần có cách để cung cấp thông tin về vị trí của từ trong câu trong mô hình"
   ],
   "id": "e031135bb8a32ec6"
  },
  {
   "metadata": {},
   "cell_type": "markdown",
   "source": "### 1.1 Công thức tính Positional Embedding ",
   "id": "47f204e44abe3d52"
  },
  {
   "metadata": {},
   "cell_type": "markdown",
   "source": [
    "Với một từ tại vị trí Pos trong cu và chiều của embedding vector là d_model, postional embedding được tính như sau:\n",
    "\n",
    "$$\n",
    "PE_{(pos, 2i)} = \\sin \\left( \\frac{pos}{10000^{\\frac{2i}{d_{model}}}} \\right)\n",
    "$$\n",
    "\n",
    "$$\n",
    "PE_{(pos, 2i+1)} = \\cos \\left( \\frac{pos}{10000^{\\frac{2i}{d_{model}}}} \\right)\n",
    "$$\n",
    " \n",
    "Trong đó:\n",
    "- pos là vị trí của từ trong câu (bắt đầu từ 0)\n",
    "- i là chỉ số của chiều trong vector embedding\n",
    "- d_model là độ dài của vector embedding"
   ],
   "id": "bfcad95345cdb080"
  },
  {
   "metadata": {
    "ExecuteTime": {
     "end_time": "2024-07-17T07:52:29.861883Z",
     "start_time": "2024-07-17T07:52:29.846119Z"
    }
   },
   "cell_type": "code",
   "source": [
    "import numpy as np\n",
    "\n",
    "def get_angle(pos, i, d_model):\n",
    "    \"\"\"\n",
    "    Hàm tính góc cho một vị trí và chiều cụ thể.\n",
    "    \n",
    "    Args:\n",
    "    pos (int): Vị trí hiện tại trong chuỗi.\n",
    "    i (int): Chỉ số chiều hiện tại.\n",
    "    d_model (int): Kích thước của embedding.\n",
    "    \n",
    "    Returns:\n",
    "    float: Giá trị góc được tính toán.\n",
    "    \"\"\"\n",
    "    return pos / np.power(10000, i / np.float32(d_model))\n",
    "\n",
    "def create_position_matrix(seq_length, embed_size):\n",
    "    \"\"\"\n",
    "    Hàm tạo ma trận vị trí embedding cho chuỗi có độ dài seq_length và kích thước embedding embed_size.\n",
    "    \n",
    "    Args:\n",
    "    seq_length (int): Độ dài của chuỗi.\n",
    "    embed_size (int): Kích thước của embedding.\n",
    "    \n",
    "    Returns:\n",
    "    numpy.ndarray: Ma trận vị trí embedding.\n",
    "    \"\"\"\n",
    "    # Khởi tạo ma trận vị trí với kích thước (seq_length, embed_size)\n",
    "    position_matrix = np.zeros((seq_length, embed_size))\n",
    "    \n",
    "    # Duyệt qua từng vị trí trong chuỗi\n",
    "    for pos in range(seq_length):\n",
    "        # Duyệt qua từng chiều của embedding\n",
    "        for i in range(embed_size):\n",
    "            if i % 2 == 0:\n",
    "                # Với các chỉ số chẵn, sử dụng hàm sin\n",
    "                position_matrix[pos, i] = np.sin(get_angle(pos, i, embed_size))\n",
    "            else:\n",
    "                # Với các chỉ số lẻ, sử dụng hàm cos\n",
    "                position_matrix[pos, i] = np.cos(get_angle(pos, i, embed_size))\n",
    "\n",
    "    return position_matrix\n",
    "\n",
    "# Kiểm tra hàm với độ dài chuỗi là 10 và kích thước embedding là 16\n",
    "seq_length = 10\n",
    "embed_size = 16\n",
    "position_matrix = create_position_matrix(seq_length, embed_size)\n",
    "print(position_matrix)\n"
   ],
   "id": "f372ef15359f83be",
   "outputs": [
    {
     "name": "stdout",
     "output_type": "stream",
     "text": [
      "[[ 0.00000000e+00  1.00000000e+00  0.00000000e+00  1.00000000e+00\n",
      "   0.00000000e+00  1.00000000e+00  0.00000000e+00  1.00000000e+00\n",
      "   0.00000000e+00  1.00000000e+00  0.00000000e+00  1.00000000e+00\n",
      "   0.00000000e+00  1.00000000e+00  0.00000000e+00  1.00000000e+00]\n",
      " [ 8.41470985e-01  8.46009110e-01  3.10983593e-01  9.84230234e-01\n",
      "   9.98334166e-02  9.98419278e-01  3.16175064e-02  9.99841890e-01\n",
      "   9.99983333e-03  9.99984189e-01  3.16227239e-03  9.99998419e-01\n",
      "   9.99999833e-04  9.99999842e-01  3.16227761e-04  9.99999984e-01]\n",
      " [ 9.09297427e-01  4.31462829e-01  5.91127117e-01  9.37418309e-01\n",
      "   1.98669331e-01  9.93682109e-01  6.32033979e-02  9.99367611e-01\n",
      "   1.99986667e-02  9.99936755e-01  6.32451316e-03  9.99993675e-01\n",
      "   1.99999867e-03  9.99999368e-01  6.32455490e-04  9.99999937e-01]\n",
      " [ 1.41120008e-01 -1.15966142e-01  8.12648897e-01  8.61040649e-01\n",
      "   2.95520207e-01  9.85803469e-01  9.47260913e-02  9.98577313e-01\n",
      "   2.99955002e-02  9.99857701e-01  9.48669068e-03  9.99985770e-01\n",
      "   2.99999550e-03  9.99998577e-01  9.48683156e-04  9.99999858e-01]\n",
      " [-7.56802495e-01 -6.27679654e-01  9.53580740e-01  7.57506172e-01\n",
      "   3.89418342e-01  9.74808266e-01  1.26154067e-01  9.97471244e-01\n",
      "   3.99893342e-02  9.99747028e-01  1.26487733e-02  9.99974702e-01\n",
      "   3.99998933e-03  9.99997470e-01  1.26491073e-03  9.99999747e-01]\n",
      " [-9.58924275e-01 -9.46079269e-01  9.99946517e-01  6.30080304e-01\n",
      "   4.79425539e-01  9.60731261e-01  1.57455898e-01  9.96049756e-01\n",
      "   4.99791693e-02  9.99604741e-01  1.58107295e-02  9.99960472e-01\n",
      "   4.99997917e-03  9.99996047e-01  1.58113817e-03  9.99999605e-01]\n",
      " [-2.79415498e-01 -9.73103708e-01  9.47148158e-01  4.82782000e-01\n",
      "   5.64642473e-01  9.43616957e-01  1.88600287e-01  9.94313298e-01\n",
      "   5.99640065e-02  9.99430844e-01  1.89725276e-02  9.99943080e-01\n",
      "   5.99996400e-03  9.99994308e-01  1.89736546e-03  9.99999431e-01]\n",
      " [ 6.56986599e-01 -7.00429935e-01  8.00421646e-01  3.20256978e-01\n",
      "   6.44217687e-01  9.23519461e-01  2.19556091e-01  9.92262419e-01\n",
      "   6.99428473e-02  9.99225342e-01  2.21341359e-02  9.99922525e-01\n",
      "   6.99994283e-03  9.99992252e-01  2.21359255e-03  9.99999225e-01]\n",
      " [ 9.89358247e-01 -2.12036505e-01  5.74317769e-01  1.47631200e-01\n",
      "   7.17356091e-01  9.00502310e-01  2.50292358e-01  9.89897767e-01\n",
      "   7.99146940e-02  9.98988242e-01  2.52955229e-02  9.99898809e-01\n",
      "   7.99991467e-03  9.99989881e-01  2.52981943e-03  9.99998988e-01]\n",
      " [ 4.12118485e-01  3.41660306e-01  2.91259121e-01 -2.96507958e-02\n",
      "   7.83326910e-01  8.74638270e-01  2.80778353e-01  9.87220090e-01\n",
      "   8.98785492e-02  9.98719551e-01  2.84566569e-02  9.99871930e-01\n",
      "   8.99987850e-03  9.99987193e-01  2.84604605e-03  9.99998719e-01]]\n"
     ]
    }
   ],
   "execution_count": 6
  }
 ],
 "metadata": {
  "kernelspec": {
   "display_name": "Python 3",
   "language": "python",
   "name": "python3"
  },
  "language_info": {
   "codemirror_mode": {
    "name": "ipython",
    "version": 2
   },
   "file_extension": ".py",
   "mimetype": "text/x-python",
   "name": "python",
   "nbconvert_exporter": "python",
   "pygments_lexer": "ipython2",
   "version": "2.7.6"
  }
 },
 "nbformat": 4,
 "nbformat_minor": 5
}
