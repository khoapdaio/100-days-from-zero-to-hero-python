{
 "cells": [
  {
   "metadata": {},
   "cell_type": "markdown",
   "source": "# Day 21: Numpy - Term Frequency and Invert Document Frequency",
   "id": "ad28dc29e297118f"
  },
  {
   "metadata": {
    "ExecuteTime": {
     "end_time": "2024-07-17T00:47:04.112941Z",
     "start_time": "2024-07-17T00:47:02.831265Z"
    }
   },
   "cell_type": "code",
   "source": [
    "import numpy as np\n",
    "\n",
    "documents = [\"Tôi thích học AI\", \"AI là trí tuệ nhân tạo\", \" AGI là siêu trí tuệ nhân tạo\"]"
   ],
   "id": "12d25e51f70bb9b7",
   "outputs": [],
   "execution_count": 1
  },
  {
   "metadata": {},
   "cell_type": "markdown",
   "source": [
    "## 1) Term Frequency\n",
    "Đo lường tần suất xuất hiện của một từ trong một tài liệu\n",
    "\n",
    "T F(t, d) = t/d\n",
    "\n",
    "- t: Số lần xuất hiện của từ t trong tài liệu d\n",
    "- d: Tổng số từ trong tài liệu d"
   ],
   "id": "37ff3a5665e2c6eb"
  },
  {
   "metadata": {
    "ExecuteTime": {
     "end_time": "2024-07-17T01:39:30.107508Z",
     "start_time": "2024-07-17T01:39:30.081051Z"
    }
   },
   "cell_type": "code",
   "source": [
    "def compute_tf(doc):\n",
    "\t# Tách các chữ thành một danh sách\n",
    "\tlist_word = np.array(doc.lower().split())\n",
    "\n",
    "\t# tổng só từ trong tài liệu \n",
    "\ttotal_words = len(list_word)\n",
    "\n",
    "\t# duyệt từng từ trong danh sách để có được số lần xuất hiện của chúng\n",
    "\tfrequency_word_list, count = np.unique(list_word, return_counts = True)\n",
    "\n",
    "\t# Duyệt từng từ unique để tính tần suất xuất hiện của từ đó trong tài liệu\n",
    "\tresult = dict()\n",
    "\tfor i in range(len(count)):\n",
    "\t\tresult[frequency_word_list[i]] = count[i] / total_words\n",
    "\n",
    "\treturn result\n",
    "\n",
    "\n",
    "compute_tf(documents[0])"
   ],
   "id": "26869ce8a0c9d6ce",
   "outputs": [
    {
     "data": {
      "text/plain": [
       "{'ai': 0.25, 'học': 0.25, 'thích': 0.25, 'tôi': 0.25}"
      ]
     },
     "execution_count": 21,
     "metadata": {},
     "output_type": "execute_result"
    }
   ],
   "execution_count": 21
  },
  {
   "metadata": {},
   "cell_type": "markdown",
   "source": [
    "# 2) Inverse Document Frequency (IDF)\n",
    "Đo lường mức độ phổ biến của một từ trong tập hợp các tài liệu. Công thức tính:\n",
    "\n",
    "IDF(t, D) = log (|D|/(1+t))\n",
    "\n",
    "- |D| là tổng số tài liệu \n",
    "- t là số tài liệu chứa t \n",
    "\n"
   ],
   "id": "79f5d1dcb5f2f3b"
  },
  {
   "metadata": {
    "ExecuteTime": {
     "end_time": "2024-07-17T01:25:05.498295Z",
     "start_time": "2024-07-17T01:25:05.491742Z"
    }
   },
   "cell_type": "code",
   "source": [
    "def compute_idf(docs):\n",
    "\ttotal_doc = len(docs)\n",
    "\tresult = list()\n",
    "\tfor doc in docs:\n",
    "\t\tlist_word = np.array(doc.lower().split())\n",
    "\t\tidf_doc_list = dict()\n",
    "\t\tfor word in list_word:\n",
    "\t\t\tidf = np.log(total_doc / (1 + sum(word in doc.lower().split() for doc in docs)))\n",
    "\t\t\tidf_doc_list[word] = idf\n",
    "\t\tresult.append(idf_doc_list)\n",
    "\treturn result\n",
    "\n",
    "\n",
    "compute_idf(documents)"
   ],
   "id": "97f64dbd70ef698f",
   "outputs": [
    {
     "data": {
      "text/plain": [
       "[{'tôi': 0.4054651081081644,\n",
       "  'thích': 0.4054651081081644,\n",
       "  'học': 0.4054651081081644,\n",
       "  'ai': 0.0},\n",
       " {'ai': 0.0, 'là': 0.0, 'trí': 0.0, 'tuệ': 0.0, 'nhân': 0.0, 'tạo': 0.0},\n",
       " {'agi': 0.4054651081081644,\n",
       "  'là': 0.0,\n",
       "  'siêu': 0.4054651081081644,\n",
       "  'trí': 0.0,\n",
       "  'tuệ': 0.0,\n",
       "  'nhân': 0.0,\n",
       "  'tạo': 0.0}]"
      ]
     },
     "execution_count": 18,
     "metadata": {},
     "output_type": "execute_result"
    }
   ],
   "execution_count": 18
  },
  {
   "metadata": {},
   "cell_type": "markdown",
   "source": [
    "# 3) TF-IDF\n",
    "Là tích của TF và IDF, giúp xác định tầm quan trọng của một từ trong một tài liệu cụ thể, đồng thời giảm thiểu ảnh hưởng của các từ phổ biến nhưng ít mang ý nghĩa.\n",
    "\n",
    "TF-IDF(t, d, D) = TF(t, d) × IDF(t, D)\n",
    "\n",
    "TF-IDF giúp phân biệt các từ quan trọng đối với nội dung của một tài liệu so với các từ xuất hiện thường xuyên trong nhiều tài liệu khác nhau nhưng ít mang giá trị thông tin.\n"
   ],
   "id": "b406ab2e843c786c"
  },
  {
   "metadata": {
    "ExecuteTime": {
     "end_time": "2024-07-17T01:49:31.708631Z",
     "start_time": "2024-07-17T01:49:31.702308Z"
    }
   },
   "cell_type": "code",
   "source": [
    "def compute_tf_idf(docs):\n",
    "\tidf = compute_idf(docs)\n",
    "\tresult = list()\n",
    "\tfor i, doc in enumerate(docs):\n",
    "\t\tresult_doc_dict = dict()\n",
    "\t\ttf = compute_tf(doc)\n",
    "\t\tfor k, v in tf.items():\n",
    "\t\t\tresult_doc_dict[k] = round(idf[i][k] * v, 4)\n",
    "\t\tresult.append(result_doc_dict)\n",
    "\treturn result\n",
    "\n",
    "\n",
    "result = compute_tf_idf(documents)\n",
    "for i, element in enumerate(result):\n",
    "\tprint(f\"Tài liệu {i + 1}\")\n",
    "\tfor k, v in element.items():\n",
    "\t\tprint(f\"\\t{k}: {v}\")"
   ],
   "id": "4f2be472d2d2304d",
   "outputs": [
    {
     "name": "stdout",
     "output_type": "stream",
     "text": [
      "Tài liệu 1\n",
      "\tai: 0.0\n",
      "\thọc: 0.1014\n",
      "\tthích: 0.1014\n",
      "\ttôi: 0.1014\n",
      "Tài liệu 2\n",
      "\tai: 0.0\n",
      "\tlà: 0.0\n",
      "\tnhân: 0.0\n",
      "\ttrí: 0.0\n",
      "\ttuệ: 0.0\n",
      "\ttạo: 0.0\n",
      "Tài liệu 3\n",
      "\tagi: 0.0579\n",
      "\tlà: 0.0\n",
      "\tnhân: 0.0\n",
      "\tsiêu: 0.0579\n",
      "\ttrí: 0.0\n",
      "\ttuệ: 0.0\n",
      "\ttạo: 0.0\n"
     ]
    }
   ],
   "execution_count": 32
  },
  {
   "metadata": {},
   "cell_type": "code",
   "outputs": [],
   "execution_count": null,
   "source": "",
   "id": "f930de39c57e360"
  }
 ],
 "metadata": {
  "kernelspec": {
   "display_name": "Python 3",
   "language": "python",
   "name": "python3"
  },
  "language_info": {
   "codemirror_mode": {
    "name": "ipython",
    "version": 2
   },
   "file_extension": ".py",
   "mimetype": "text/x-python",
   "name": "python",
   "nbconvert_exporter": "python",
   "pygments_lexer": "ipython2",
   "version": "2.7.6"
  }
 },
 "nbformat": 4,
 "nbformat_minor": 5
}
