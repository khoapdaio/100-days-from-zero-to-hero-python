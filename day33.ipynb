{
 "cells": [
  {
   "metadata": {},
   "cell_type": "markdown",
   "source": "### Day 33: Review Probability",
   "id": "a3525d3e11437962"
  },
  {
   "metadata": {},
   "cell_type": "markdown",
   "source": [
    "#### 1. Một túi có 3 quả bóng đỏ và 5 quả bóng xanh. Xác suất rút được một quả bóng đỏ là bao nhiêu?\n",
    "\n",
    "$P(\\text{Đỏ})= \\frac{\\text{Số quả bóng đỏ}}{\\text{Tổng số quả bóng}}=\\frac{3}{3+5}=\\frac{3}{8}=0.375$"
   ],
   "id": "e99a5d61f06e3939"
  },
  {
   "metadata": {
    "ExecuteTime": {
     "end_time": "2024-07-31T08:09:34.278051Z",
     "start_time": "2024-07-31T08:09:34.273329Z"
    }
   },
   "cell_type": "code",
   "source": [
    "# Số quả bóng màu đỏ\n",
    "balls_red = 3\n",
    "# Số quả bóng màu xanh\n",
    "balls_blue = 5\n",
    "# Tổng số quả bóng\n",
    "total_ball = balls_red + balls_blue\n",
    "# Xác suất để rút được một quả bóng màu đỏ\n",
    "P_red = balls_red / total_ball\n",
    "print(\"Xác suất rút được một quả bóng đỏ là: \", P_red)"
   ],
   "id": "7686c9965255e78",
   "outputs": [
    {
     "name": "stdout",
     "output_type": "stream",
     "text": [
      "Xác suất rút được một quả bóng đỏ là:  0.375\n"
     ]
    }
   ],
   "execution_count": 2
  },
  {
   "metadata": {},
   "cell_type": "markdown",
   "source": [
    "#### 2. Một con súc sắc sáu mặt được tung. Xác suất để số điểm là số chẵn\n",
    "$P(\\text{Số chẵn})= P(\\text{Số 2})+P(\\text{Số 4})+P(\\text{Số 6})= \\frac{1}{6}+\\frac{1}{6}+\\frac{1}{6}=\\frac{3}{6}=0.5$\n"
   ],
   "id": "2b0f9fe8cce2ab61"
  },
  {
   "metadata": {
    "ExecuteTime": {
     "end_time": "2024-07-31T08:25:39.640778Z",
     "start_time": "2024-07-31T08:25:39.633724Z"
    }
   },
   "cell_type": "code",
   "source": [
    "# số lượng mặt của một súc sắc\n",
    "side = 6\n",
    "# Xác suất của từng mặt số lẻ \n",
    "P_2 = P_4 = P_6 = 1 / side\n",
    "# Xác suất để số điểm là số chẵn\n",
    "P_even = P_2 + P_4 + P_6\n",
    "\n",
    "print(\"Xác suất để số chẵn là:\", P_even)"
   ],
   "id": "9775b07d4d59c1bc",
   "outputs": [
    {
     "name": "stdout",
     "output_type": "stream",
     "text": [
      "Xác suất để số chẵn là: 0.5\n"
     ]
    }
   ],
   "execution_count": 3
  },
  {
   "metadata": {},
   "cell_type": "markdown",
   "source": [
    "#### 3. Từ bộ bài 52 lá, xác suất để rút được một lá bài là quân bích\n",
    "\n",
    "Ta có: \n",
    "- 4 Loại quân bài: Bích, Chuồn, Cơ, Rô(tổng có 4 loại )\n",
    "- Với mỗi loại quân bài ta có số quân bài tương ứng: Át,2,3,4,5,6,7,8,9,10,J,Q,K (Tổng có 13 quân bài)\n",
    "- Tổng công số lá ta được: 4(loại)* 13(quân)= 52 lá.\n",
    "\n",
    "\n",
    "=> Vậy câu hỏi của đề bài ở đây có ý nghĩa là: Xác suất để rút một lá bài có số của quân bài từ Át,2,3,...,J,Q,K (Tổng có 13 quân bài) thuộc loại Bích\n",
    "\n",
    "Vì số lượng số của quân từ Át,2,3,...,J,Q,K là như nhau đều bằng 1 ta được:\n",
    "\n",
    "$P(X|C=bích) = \\frac{\\text{ Số quân là Át Bích}}{\\text{Tổng số lá}}+\\frac{\\text{ Số quân là 2 bích}}{\\text{Tổng số lá}}+...+\\frac{\\text{ Số quân là K bích }}{\\text{Tổng số lá}} =\\frac{\\text{Tổng số Quân bích}}{\\text{Tổng số lá}} =\\frac{13}{52}=0.25$\n",
    "\n",
    "Trong đó:\n",
    "- X là số quân của lá bài\n",
    "- C là loại bài  \n"
   ],
   "id": "e374174fe2ea777b"
  },
  {
   "metadata": {
    "ExecuteTime": {
     "end_time": "2024-07-31T09:09:10.738630Z",
     "start_time": "2024-07-31T09:09:10.727677Z"
    }
   },
   "cell_type": "code",
   "source": [
    "type_card = 4\n",
    "number_card = 13\n",
    "\n",
    "total_card = type_card * number_card\n",
    "\n",
    "P_X_C = number_card / total_card\n",
    "print(\"Xác suất để rút đượcc một là bài là quân bích là:\", P_X_C)"
   ],
   "id": "91a6261b8cc80d54",
   "outputs": [
    {
     "name": "stdout",
     "output_type": "stream",
     "text": [
      "Xác suất để rút đượcc một là bài là quân bích là:  0.25\n"
     ]
    }
   ],
   "execution_count": 4
  },
  {
   "metadata": {},
   "cell_type": "markdown",
   "source": [
    "#### 4. Một hợp chứa 10 viên kẹo, trong đó có 7 viên kẹo vị dâu và 3 viên kẹo vị nho. Xác suất để lấy được viên kẹo vị nho?\n",
    "\n",
    "$P(Nho)= \\frac{\\text{Số viên kẹo vị nho}}{\\text{Tổng số viên kẹo}}= \\frac{3}{10}=0.3$\n"
   ],
   "id": "bbe45f2396286ba0"
  },
  {
   "metadata": {
    "ExecuteTime": {
     "end_time": "2024-07-31T09:16:24.287260Z",
     "start_time": "2024-07-31T09:16:24.282063Z"
    }
   },
   "cell_type": "code",
   "source": [
    "keo_nho = 3\n",
    "keo_dau = 7\n",
    "tong_keo = keo_nho + keo_dau\n",
    "\n",
    "P_nho = keo_nho / tong_keo\n",
    "\n",
    "print(\"Xác suất để lấy đượ viên kẹo vị nho là:\", P_nho)"
   ],
   "id": "468c4c20ac3e810b",
   "outputs": [
    {
     "name": "stdout",
     "output_type": "stream",
     "text": [
      "Xác suất để lấy đượ viên kẹo vị nho là: 0.3\n"
     ]
    }
   ],
   "execution_count": 6
  },
  {
   "metadata": {},
   "cell_type": "markdown",
   "source": [
    "#### 5. Xác suất để một người chọn ngẫu nhiên sinh vào tháng 5\n",
    "Vì mỗi tháng là độc lập và chỉ có một nên ta có\n",
    "\n",
    "$P(\\text{Tháng 5}) = \\frac{1}{\\text{Tổng số tháng}}=\\frac{1}{12} \\approx 0.08333$"
   ],
   "id": "8677b13e859533d3"
  },
  {
   "metadata": {
    "ExecuteTime": {
     "end_time": "2024-07-31T09:22:35.457718Z",
     "start_time": "2024-07-31T09:22:35.451312Z"
    }
   },
   "cell_type": "code",
   "source": [
    "number_month = 12\n",
    "P_May = 1 / number_month\n",
    "\n",
    "print(\"Xác suất để một người chọn ngẫu nhiên sinh vào tháng 5 là:\", P_May)"
   ],
   "id": "82c24d2c18609ff3",
   "outputs": [
    {
     "name": "stdout",
     "output_type": "stream",
     "text": [
      "Xác suất để một người chọn ngẫu nhiên sinh vào tháng 5 là: 0.08333333333333333\n"
     ]
    }
   ],
   "execution_count": 7
  },
  {
   "metadata": {},
   "cell_type": "markdown",
   "source": [
    "#### 6. Xác suất để một học sinh học giỏi toán (A) là 0.7. Xác suất để học sinh đó cũng học giỏi lý (B) là 0.6. Xác suất để học sinh giỏi cả hai môn (A và B) là 0.5. Tìm xác suất để học sinh học giỏi lý biết rằng học sinh đó giỏi toán.\n",
    "\n",
    "$P(L|T) = \\frac{P(T \\cap L)}{P(T)}=\\frac{0.5}{0.7}\\approx 0.7143$\n",
    "\n",
    "Trong đó L là Lý và T là Toán:\n",
    "- $P(L|T)$ là Xác suất để học sinh học giỏi lý biết rằng học sinh đó giỏi toán\n",
    "- $P(T \\cap L)$ là xác suất để học sinh giỏi cả hai môn\n",
    "- $P(T)$ là Xác suất để học sinh học giỏi toán"
   ],
   "id": "28a756706a70032a"
  },
  {
   "metadata": {
    "ExecuteTime": {
     "end_time": "2024-07-31T10:32:32.869799Z",
     "start_time": "2024-07-31T10:32:32.864132Z"
    }
   },
   "cell_type": "code",
   "source": [
    "# Xác suất để học sinh giỏi cả hai môn\n",
    "P_L_cap_T = 0.5\n",
    "\n",
    "# xác suất để học sinh học giỏi toán\n",
    "P_T = 0.7\n",
    "\n",
    "# Xác suất để học sinh học giỏi lý biết rằng học sinh đó học giỏi toán\n",
    "P_L_T = P_L_cap_T / P_T\n",
    "\n",
    "print(\"Xác suất để học sinh giỏi lý biết rằng học sinh đó giỏi toán là:\", round(P_L_T, 4))"
   ],
   "id": "55d52a6fceadef78",
   "outputs": [
    {
     "name": "stdout",
     "output_type": "stream",
     "text": [
      "Xác suất để học sinh giỏi lý biết rằng học sinh đó giỏi toán là: 0.7143\n"
     ]
    }
   ],
   "execution_count": 9
  },
  {
   "metadata": {},
   "cell_type": "markdown",
   "source": [
    "#### 7. Trong một lớp học, xác suất để học sinh đạt điểm A môn toán là 0.3, xác suất để đạt điểm A môn lý là 0.4. Biết rằng xác suất để dạt điểm A cả hai môn là 0.2, tìm xác suất để học sinh đạt điểm A môn toán biết rằng học sinh đó đã đạt điểm A môn lý\n",
    "\n",
    "$P(\\text{A_T|A_L})=\\frac{P(\\text{A_T \\cap A_L})}{P(\\text{A_L})}= \\frac{0.2}{0.4}=0.5$\n",
    "\n",
    "Trong đó :\n",
    "- A_T là Điểm A môn Toán \n",
    "- A_L là Điểm A môn Lý\n",
    "- $P(\\text{A_T|A_L})$ là xác suất để học sinh đạt điểm A môn toán biết rằng học sinh đó đã đạt điểm A môn Lý\n",
    "- $P(\\text{A_T \\cap A_L})$ là xác suất để đạt điểm A cả hai môn\n",
    "- $P(\\text{A_L})$ là xác suất để đạt điểm A môn lý \n",
    "\n"
   ],
   "id": "f1fefd5d6620faf5"
  },
  {
   "metadata": {
    "ExecuteTime": {
     "end_time": "2024-07-31T13:55:56.203758Z",
     "start_time": "2024-07-31T13:55:56.187759Z"
    }
   },
   "cell_type": "code",
   "source": [
    "P_AT = 0.3\n",
    "P_AL = 0.4\n",
    "P_AT_cap_AL = 0.2\n",
    "\n",
    "P_AT_AL = P_AT_cap_AL / P_AL\n",
    "\n",
    "print(\"Xác suất để học sính đạt điểm A môn toán biết rằng học sinh đó đã đạt điểm A môn lý là:\", P_AT_AL)"
   ],
   "id": "73b342f6fcde2556",
   "outputs": [
    {
     "name": "stdout",
     "output_type": "stream",
     "text": [
      "Xác suất để học ính đạt điểm A môn toán biết rằng học sinh đó đã đạt điểm A môn lý là: 0.5\n"
     ]
    }
   ],
   "execution_count": 10
  },
  {
   "metadata": {},
   "cell_type": "markdown",
   "source": [
    "#### 8. Một túi có 5 quả táo và 3 quả cam. Rút ngẫu nhiên một quả và biết rằng quả đó là quả cam, xác suất để rút được một quả táo\n",
    "\n",
    "Vì đã rút ra quả cam => Xác suất để rút ra được một quả táo bằng 0"
   ],
   "id": "fdefa23ebfffc1c9"
  },
  {
   "metadata": {},
   "cell_type": "markdown",
   "source": [
    "#### 9. Một công ty có 60% nhân viên nam và 40% nhân viên nữ. Xác suất để một nhân viên nữ được thăng chức là 30%, và xác suất để một nhân viên nam được thăng chức là 20%. Tìm xác suất để một nhân viên được thăng chức biết rằng đó là nhân viên nữ.\n",
    "\n",
    "Vì đã biết trước đó là nhân viên nữ =>\n",
    "$P(\\text{C|X=\"nữ\"})= \\text{30\\%}$"
   ],
   "id": "e4a1da168988c30e"
  },
  {
   "metadata": {},
   "cell_type": "markdown",
   "source": [
    "#### 10. Xác suất để một sinh viên đậu một môn thi là 0.8. Xác suất để sinh viên đó đậu cả hai môn thi là 0.6. Tìm xác suất để sinh viên đậu môn thứ hai biết rằng đã đậu môn thứ nhất.\n",
    "\n",
    "Gọi:\n",
    "- A là sự kiện sinh viên đậu môn thứ nhất\n",
    "- B là sự kiện sinh viên đậu môn thứ 2\n",
    "\n",
    "$P(B|A) = \\frac{P(A \\cap B)}{P(A)}= \\frac{0.6}{0.8}=0.75$\n"
   ],
   "id": "7313bfe64bfa92d8"
  },
  {
   "metadata": {},
   "cell_type": "markdown",
   "source": [
    "#### 11. Có một túi gồm 4 viên kẹo đỏ và 6 viên kẹo xanh. Một viên kẹo được chọn ngẫu nhiên và thấy là kẹo đỏ. Tìm xác suất túi còn lại có 5 viên kẹo đỏ và 5 viên kẹo xanh\n",
    "\n",
    "Vì yêu cầu đề bài là tìm xác suất túi còn lại có 5 viên kẹo đỏ và 5 viên kẹo xanh nhưng trong túi chỉ có 4 viên kẹo đỏ và 6 viên kẹo xanh nên bài này không đủ hoặc thiếu dữ kiện để xác định"
   ],
   "id": "5574b98b512a0fa"
  },
  {
   "metadata": {},
   "cell_type": "markdown",
   "source": [
    "#### 12. Một bác sĩ cho biết có xác suất 5% để một bệnh nhân có bệnh khi kết quả xét nghiệm là dương tính. Xác suất để xét nghiệm dương tính khi bệnh nhân thực sự có bệnh là 95%, và xác suất để xết nghiệm dương tính khi bệnh nhân không có bệnh là 1%. Tìm xác suất thực sự có bệnh khi xét nghiệm dương tính.\n",
    "\n",
    "A: Sự kiện bệnh nhân có bệnh\n",
    "B: Sự kiện xét nghiệm dương tính\n",
    "$\\overline{A}$: Sự kiện bệnh nhân ko có bệnh\n",
    "$\\overline{B}$: Sự kiện xét nghiệm âm tính\n",
    "\n",
    "Từ đề bài ta có:\n",
    "\n",
    "$P(A) = 5\\% $.\n",
    " \n",
    "$P(B|A) = 95\\%$.\n",
    "\n",
    "$P(B|\\overline{A})= 1\\%$ .\n",
    "\n",
    "\n",
    "Chúng ta cần tính P(B), xác suất xét nghiệm dương tính. Sử dụng định lý xác suất toàn phần:\n",
    "\n",
    "$P(B)=P(B|A).P(A)+P(B|\\overline{A}).P(\\overline{A})$.\n",
    "\n",
    "Trong đó:\n",
    "\n",
    "$P(\\overline{A})=1-P(A)=100\\%-5\\%=95\\%$\n",
    "\n",
    "Thay số vào\n",
    "\n",
    "$P(B)= 0.95*0.05 + 0.01*0.95=0.057$\n",
    "\n",
    "Bây giờ, áp dụng định lý Bayes:\n",
    "\n",
    "$P(A|\\overline{B})=\\frac{P(B|A).P(A)}{P(B)}=\\frac{0.95*0.05}{0.057} \\approx 0.8333$\n",
    "  "
   ],
   "id": "cbb59380d4390420"
  },
  {
   "metadata": {},
   "cell_type": "code",
   "outputs": [],
   "execution_count": null,
   "source": [
    "P_A = 0.05\n",
    "P_B_A = 0.95\n",
    "P_B_A_ = 0.01\n",
    "P_A_ = 1 - P_A\n",
    "\n",
    "P_B = P_B_A * P_A + P_B_A_ * P_A_\n",
    "\n",
    "P_A_B = (P_B_A * P_A) / P_B\n",
    "\n",
    "print(f\"Xác suát bệnh nhân thực sự có bệnh khi xét nghiệm dương tnh là khoảng {round(P_A_B, 4) * 100}%\")"
   ],
   "id": "50732bb2fa0fe339"
  },
  {
   "metadata": {},
   "cell_type": "markdown",
   "source": [
    "#### 13. Một người bạn có 60% khả năng xuất hiện tại một buổi tiệc nếu trời mưa và 30% nếu trời không mưa. Biết rằng xác suất trời mưa là 20%, xác suất người đó sẽ đến tiệc là bao nhiêu?\n",
    "\n",
    "Gọi :\n",
    "- $A$ là sự kiện người bạn xuất hiện tại buổi tiệc\n",
    "- $\\overline{A}$ là sự kiện người bạn ko xuất hiện tại buổi tiệc\n",
    "- $B$ là sự kiện trời mưa\n",
    "- $\\overline{B}$ là sự kiện ko mưa\n",
    "\n",
    "Từ đề bài ta có:\n",
    "\n",
    "$P(A|B)=60\\%$.\n",
    "\n",
    "$P(A|\\overline{B})=30\\%$.\n",
    "\n",
    "$P(B)=20\\%$.\n",
    "\n",
    "$P(\\overline{B})=80\\%$.\n",
    "\n",
    "$P(A) = ?$.\n",
    "\n",
    "Áp dụng định lý xác suất toàn phần\n",
    "\n",
    "$P(A)=P(A|B).P(B) + P(A|\\overline{B}).P(\\overline{B})= 0.6*0.2+0.3*0.8= 0.36 $\n"
   ],
   "id": "cd59d821df28f592"
  },
  {
   "metadata": {
    "ExecuteTime": {
     "end_time": "2024-08-01T00:16:39.343041Z",
     "start_time": "2024-08-01T00:16:39.338015Z"
    }
   },
   "cell_type": "code",
   "source": [
    "P_A_B = 0.6\n",
    "P_A_B_ = 0.3\n",
    "P_B = 0.2\n",
    "P_B_ = 0.8\n",
    "\n",
    "P_A = P_A_B * P_B + P_A_B_ * P_B_\n",
    "\n",
    "print(f\"Vây với xác suất trời mưa là 20%, xác suất người đó sẽ đến tiệc là: {P_A * 100}%\")"
   ],
   "id": "1d6caf112461fb18",
   "outputs": [
    {
     "name": "stdout",
     "output_type": "stream",
     "text": [
      "Vây với xác suất trời mưa là 20%, xác suất người đó sẽ đến tiệc là: 36.0%\n"
     ]
    }
   ],
   "execution_count": 5
  },
  {
   "metadata": {},
   "cell_type": "markdown",
   "source": [
    "#### 14. Trong một lớp học, 30% học sinh sử dụng máy tính xách tay, và trong số những học sinh này, 70% là nữ. Trong số những học sinh không sử dụng máy tính xách tay, 50% là nữ. Tìm xác suất để một học sinh sử dụng máy tính xách tay biết rằng học sinh đó là nữ:\n",
    "\n",
    "Ta gọi: \n",
    "- $A$ là sự kiện học sinh là nữ\n",
    "- $\\overline{A}$ là sự kiện học sinh là nam\n",
    "- $B$ là sự kiện học sinh sử dụng máy tính xác tay\n",
    "- $\\overline{B}$ là sự kiện học sinh không sử dụng máy tính xác tay\n",
    "\n",
    "Theo đề bài ta có :\n",
    "\n",
    "$P(B) =30\\%$.\n",
    "\n",
    "$P(\\overline{B}) =100% - P(B) =70\\%$.\n",
    "\n",
    "$P(A|B) = 70\\%$.\n",
    "\n",
    "$P(A|\\overline{B})=50%$\n",
    "\n",
    "P(B|A) = ?\n",
    "\n",
    "Áp dụng định lý xác suất toàn phần:\n",
    "\n",
    "$P(A) = P(A|B).P(B) + P(A|\\overline{B}).P(\\overline{B})= 70\\%*30\\% + 70\\%*50\\% = 56\\% = 0.56 $\n",
    "\n",
    "\n",
    "Áp dụng định lý Bayes ta có: \n",
    "\n",
    "$P(B|A) = \\frac{P(A|B)*P(B)}{P(A)} = \\frac{70\\%*30\\%}{56\\%}=37.5\\% = 0.375 $\n"
   ],
   "id": "30589ff96ffea95e"
  },
  {
   "metadata": {},
   "cell_type": "markdown",
   "source": [
    "#### 15. Một bài kiểm tra ý tế có độ nhạy (sensitity) là 99%  và độ đặc hiệu (Specificity) là 95%. Xác suất mắc bệnh là 1%. Tìm xác suát để một người có kết quả dương tính thực sự mắc bệnh.\n",
    "\n",
    "Ta gọi:\n",
    "- $TP$: Số lượng mẫu cho kết quả dương tính là đúng\n",
    "- $TN$: Số lượng mẫu cho kết quả dương tính là sai\n",
    "- $FP$: Số lượng mẫu cho kết quả âm tính là đúng\n",
    "- $FN$: SỐ lượng mẫu cho kết quả âm tính là sai\n",
    "- $A$: Sự kiện một người mắc bệnh\n",
    "- $\\overline{A}$: Sự kiện một người không mắc bệnh\n",
    "- $B$: Sự kiện một người có kết quả xét nghiệm là dương tính\n",
    "- $\\overline{B}$: Sự kiện một người có kết quả xét nghiệm là âm tính\n",
    "\n",
    "Theo đề bài ta có:\n",
    "\n",
    "(Độ nhạy ): Đây là xác suất một người có kết quả dương tính khi biết rằng người đó thực sự mắc bệnh\n",
    "\n",
    "$Recall = P(B|A) =\\frac{TP}{TP+FN}=99\\%$\n",
    "\n",
    "(Độ đặc hiệu): Đây là xác suát một người có kết quả âm tính khi biết rằng người đó thực sự không mắc bệnh\n",
    "\n",
    "$Specificity =P(\\overline{B}|\\overline{A}) = \\frac{TN}{TN+FP}=95\\%$.\n",
    "\n",
    "$P(B|\\overline{A}) =100 -P(\\overline{B}|\\overline{A})=100\\%-95\\%=5\\%$.\n",
    "\n",
    "$P(A) =1\\%$.\n",
    "\n",
    "$P(\\overline{A})= 100\\%- P(A)= 99\\%$.\n",
    "\n",
    "P(A|B)=?\n",
    "\n",
    "\n",
    "Áp dụng định lý xác suất toàn phần\n",
    "\n",
    "$P(B)= P(B|A).P(A)+P(B|\\overline{A}).P(\\overline{A})= 99\\% *1\\% + 5\\%*99\\% =5.94\\%=0.0594$.\n",
    "\n",
    "Áp dụng định lý Bayes \n",
    "\n",
    "$P(A|B)=\\frac{P(B|A).P(A)}{P(B)}=\\frac{0.99*0.01}{0.0594} \\approx 0.16667$\n"
   ],
   "id": "933ac394b160a140"
  },
  {
   "metadata": {
    "ExecuteTime": {
     "end_time": "2024-08-01T01:19:36.351911Z",
     "start_time": "2024-08-01T01:19:36.347256Z"
    }
   },
   "cell_type": "code",
   "source": [
    "#Xác suất một người có kết quả dương tính khi biết rằng người đó thực sự mắc bệnh <=> P(B|A) = recall\n",
    "recall = 0.99\n",
    "\n",
    "#Xác suát một người có kết quả âm tính khi biết rằng người đó thực sự không mắc bệnh <=> P(B-|A-)= specificity\n",
    "specificity = 0.95\n",
    "P_B_A_ = 1 - specificity\n",
    "P_A = 0.01\n",
    "P_A_ = 1 - P_A\n",
    "P_B = recall * P_A + P_B_A_ * P_A_\n",
    "\n",
    "P_A_B = (recall * P_A) / P_B\n",
    "\n",
    "print(f\"Xác suất để một người có kết quả dương tính thực sự mắc bệnh là {round(P_A_B, 5) * 100.0}%\")"
   ],
   "id": "51bfc5b33bbd67d0",
   "outputs": [
    {
     "name": "stdout",
     "output_type": "stream",
     "text": [
      "Xác suất để một người có kết quả dương tính thực sự mắc bệnh là 16.667%\n"
     ]
    }
   ],
   "execution_count": 18
  },
  {
   "metadata": {},
   "cell_type": "markdown",
   "source": [
    "#### 16. cho biết phân phối chuẩn có trung bình là 0 và độ lệch chuẩn là 1. Tính xác suất để một biến ngẫu nhiên chuẩn nhận giá trị lớn hơn 1\n",
    "\n",
    "Áp dụng công thức hàm phân phối tích lũy (CDF) để tính xác suất để một biến ngẫu nhiên chuẩn nhận giá trị nhỏ hơn hoặc bằng 1, ta có:\n",
    "\n",
    "$F(x;\\mu,\\sigma) =\\frac{1}{\\sigma\\sqrt{2\\pi}}\\int_{-\\infty}^x exp(-\\frac{ (t-\\mu)^2}{2\\sigma^2})dt$\n",
    "\n",
    "<=> $F(1;0,1) =\\frac{1}{\\sqrt{2\\pi}}\\int_{-\\infty}^1 exp(-\\frac{ t^2}{2})dt$\n",
    "\n",
    "<=> $F(1;0,1) =P(X<=1) \\approx 0.84134 $\n",
    "\n",
    "=> $P(X>1) =1 -P(X<=1) = 1-0.84134 = 0.15865 = 15.866 %$\n"
   ],
   "id": "f828db6fcc6a04f3"
  },
  {
   "metadata": {
    "ExecuteTime": {
     "end_time": "2024-08-01T02:11:43.469674Z",
     "start_time": "2024-08-01T02:11:43.462966Z"
    }
   },
   "cell_type": "code",
   "source": [
    "from scipy.stats import norm\n",
    "\n",
    "cdf_value = norm.cdf(1)\n",
    "\n",
    "print(f\"Giá trị của hàm CDF tại x=1 là: {cdf_value}\")\n",
    "\n",
    "print(f\"Xác suất để một biến ngẫu nhiên chuẩn nhận giá trị lớn hơn 1 là {round(1 - cdf_value, 5) * 100}%\")"
   ],
   "id": "d6569da82152783a",
   "outputs": [
    {
     "name": "stdout",
     "output_type": "stream",
     "text": [
      "Giá trị của hàm CDF tại x=1 là: 0.8413447460685429\n",
      "Xác suất để một biến ngẫu nhiên chuẩn nhận giá trị lớn hơn 1 là 15.866%\n"
     ]
    }
   ],
   "execution_count": 21
  },
  {
   "metadata": {},
   "cell_type": "markdown",
   "source": [
    "#### 17. Một biến ngẫu nhiên X có phân phối chuẩn với trung bình 100 và độ lệch chuẩn 15. Tính xác suất để X nằm trong khoảng từ 85 đến 115\n",
    "\n",
    "Đầu tiên là áp dụng công thức phân phối chuẩn hóa để quy mọi biến ngẫu nhiên phân phối chuẩn về dạng phân phối chuẩn tắc \n",
    "\n",
    "$Z= \\frac{X-\\mu}{\\sigma}$\n",
    "\n",
    "Với X=85:\n",
    "$Z_1=\\frac{85-100}{15}=-1$\n",
    "\n",
    "Với X=115:\n",
    "$Z_2=\\frac{115-100}{15}=1$\n",
    "\n",
    "Ta sử dụng bảng phân phối chuẩn tích lũy để tính P(-1<=Z<=1) thay thế cho P(85<=X<=115)\n",
    "\n",
    "Theo bảng phân phối chuẩn tích lũy, xác suất để Z nằm giữa giá trị -1 và 1 là:\n",
    "\n",
    "P(-1<=Z<=1) = P(Z<=1)-P(Z<=-1)\n",
    "\n",
    "Từ bảng phân phối chuẩn tích lũy (hoặc hàm phân phối tích lũy chuẩn chuẩn hóa) ta có:\n",
    "\n",
    "$P(Z<=1)\\approx 0.8413$.\n",
    "\n",
    "$P(Z<=-1)\\approx 0.1587$. \n",
    "\n",
    "\n",
    "<=>P(-1<=Z<=1) = 0.8413-0.1587 = 0.6826 = P(85<=X<=115) \n"
   ],
   "id": "ebfd57a059a6178c"
  },
  {
   "metadata": {
    "ExecuteTime": {
     "end_time": "2024-08-01T03:29:28.180187Z",
     "start_time": "2024-08-01T03:29:28.174146Z"
    }
   },
   "cell_type": "code",
   "source": [
    "\n",
    "cdf_value_1 = norm.cdf(85, loc = 100, scale = 15)\n",
    "cdf_value_2 = norm.cdf(115, loc = 100, scale = 15)\n",
    "probability = cdf_value_2 - cdf_value_1\n",
    "\n",
    "print(\"Xác suất để X nằm trong khoảng từ 85-115 là:\", round(probability * 100, 2))"
   ],
   "id": "376c9bbc53d93ff6",
   "outputs": [
    {
     "name": "stdout",
     "output_type": "stream",
     "text": [
      "Xác suất để X nằm trong khoảng từ 85-115 là: 68.27\n"
     ]
    }
   ],
   "execution_count": 29
  },
  {
   "metadata": {},
   "cell_type": "markdown",
   "source": [
    "#### 18. Xác suất để một biến ngẫu nhiên chuẩn nhận giá trị nhỏ hơn -2\n",
    "\n",
    "Vì đầu bài ko đề cập đến mean và độ lệch chuẩn nên mặc định ta sẽ có mean =0 và độ lệch chuẩn = 1.\n",
    "\n",
    "\n",
    "Từ bảng phân phối chuẩn tích lũy  ta có \n",
    "\n",
    "$F(-2;0,1) =\\frac{1}{\\sqrt{2\\pi}}\\int_{-\\infty}^{-2} exp(-\\frac{ t^2}{2})dt$\n",
    "\n",
    "$F(-2;0,1) \\approx 0.0228$\n",
    "\n",
    "=>$P(X<-2)\\approx 0.0228$ "
   ],
   "id": "85a1e977c0f9f97a"
  },
  {
   "metadata": {
    "ExecuteTime": {
     "end_time": "2024-08-01T03:42:14.748356Z",
     "start_time": "2024-08-01T03:42:14.742949Z"
    }
   },
   "cell_type": "code",
   "source": [
    "cdf_value_18 = norm.cdf(-2)\n",
    "\n",
    "print(\"Xác suất để X <-2 là:\", round(cdf_value_18 * 100, 2))"
   ],
   "id": "30a0e256064442d9",
   "outputs": [
    {
     "name": "stdout",
     "output_type": "stream",
     "text": [
      "Xác suất để X <-2 là: 2.28\n"
     ]
    }
   ],
   "execution_count": 31
  },
  {
   "metadata": {},
   "cell_type": "markdown",
   "source": [
    "#### 19. Một bài kiểm tra có điểm trung bình là 75 và độ lệch chuẩn là 10. Tính xác suát để một học sinh đạt điểm trên 90 \n",
    "\n",
    "Đầu tiên là áp dụng công thức phân phối chuẩn hóa để quy mọi biến ngẫu nhiên phân phối chuẩn về dạng phân phối chuẩn tắc (khi đó mean=0 và độ lệch chuẩn =1)\n",
    "\n",
    "$Z= \\frac{X- \\mu}{\\sigma}$\n",
    "\n",
    "Với X = 90 : $Z =\\frac{90-75}{10}=\\frac{15}{10}=1.5 $\n",
    "\n",
    "Ta sử dụng bảng phân phối chuẩn tích lũy để tính P(Z>=1.5) thay cho P(X>=90)\n",
    "\n",
    "$P(Z>=1.5)=1-P(Z<1.5) =1- \\frac{1}{\\sqrt{2\\pi}}\\int_{-\\infty}^{1.5} exp(-\\frac{ t^2}{2})dt \\approx 0.0668$\n",
    "\n",
    " "
   ],
   "id": "4ab847850ba83a57"
  },
  {
   "metadata": {
    "ExecuteTime": {
     "end_time": "2024-08-01T04:15:02.350648Z",
     "start_time": "2024-08-01T04:15:02.345735Z"
    }
   },
   "cell_type": "code",
   "source": [
    "cdf_value_19 = norm.cdf(1.5)\n",
    "\n",
    "print(f\"Xác suất để một học sinh đạt điểm trên 90 là: {round((1 - cdf_value_19) * 100, 2)}%\")"
   ],
   "id": "1bd4ec3f84621662",
   "outputs": [
    {
     "name": "stdout",
     "output_type": "stream",
     "text": [
      "Xác suất để một học sinh đạt điểm trên 90 là: 6.68%\n"
     ]
    }
   ],
   "execution_count": 39
  },
  {
   "metadata": {},
   "cell_type": "markdown",
   "source": [
    "#### 20. Trong một kỳ thi, điểm của các sinh viên tuân theo phân phối chuẩn với trung binh 70 và độ lệch chuẩn 8. Tính xác suất để điểm số của một sinh viên nằm giữa 65 và 75.\n",
    "\n",
    "\n",
    "Đầu tiên là ta áp dụng câu thức phân phối chuẩn hóa để quy mọi bến ngẫu nhiên phân phối chuẩn về dạng phân phối chuẩn tắc\n",
    "\n",
    "$Z= \\frac{X-\\mu}{\\sigma}$\n",
    "\n",
    "Với X = 65:\n",
    "$Z_1 = \\frac{65-70}{8}=\\frac{-5}{8} = -0.625 $\n",
    "\n",
    "Với X = 75:\n",
    "$Z_2 = \\frac{75-70}{8}=\\frac{5}{8} = 0.625 $\n",
    "\n",
    "Ta sử dụng bảng phân phối chuẩn tích lũy để tính P(-0.625<=Z<=0.625) thay thế cho P(65<=X<=75)\n",
    "\n",
    "Theo bảng phân phối chuẩn tích lũy, Xác suất để Z nằm giữa giá trị -0.625 và 0.625 là:\n",
    "\n",
    "P(-0.625<=Z<=0.625) = P(Z<=0.625) - P(Z<=-0.625)\n",
    "\n",
    "Từ bảng phân phối chuẩn tích lũy, ta có:\n",
    "\n",
    "$P(Z<=0.625)\\approx 0.7340$.\n",
    "\n",
    "$P(Z<=-0.625)\\approx 0.2660$. \n",
    "\n",
    "<=> P(-0.625<=Z<=0.625) = 0.7340 - 0.2660 = 0.468"
   ],
   "id": "233efb69a2df9543"
  },
  {
   "metadata": {
    "ExecuteTime": {
     "end_time": "2024-08-01T04:10:33.793991Z",
     "start_time": "2024-08-01T04:10:33.787940Z"
    }
   },
   "cell_type": "code",
   "source": [
    "cdf_value_20_1 = norm.cdf(65, loc = 70, scale = 8)\n",
    "cdf_value_20_2 = norm.cdf(75, loc = 70, scale = 8)\n",
    "\n",
    "probability_20 = cdf_value_20_2 - cdf_value_20_1\n",
    "\n",
    "print(f\"Xác suất để điểm số của một sinh viên nằm giữa 65 và 75 là: {round(probability_20 * 100, 2)}%\")"
   ],
   "id": "703146be7482878c",
   "outputs": [
    {
     "name": "stdout",
     "output_type": "stream",
     "text": [
      "Xác suất để điểm số của một sinh viên nằm giữa 65 và 75 là: 46.8%\n"
     ]
    }
   ],
   "execution_count": 38
  },
  {
   "metadata": {},
   "cell_type": "code",
   "outputs": [],
   "execution_count": null,
   "source": "",
   "id": "29a7f7265290bd0e"
  }
 ],
 "metadata": {
  "kernelspec": {
   "display_name": "Python 3",
   "language": "python",
   "name": "python3"
  },
  "language_info": {
   "codemirror_mode": {
    "name": "ipython",
    "version": 2
   },
   "file_extension": ".py",
   "mimetype": "text/x-python",
   "name": "python",
   "nbconvert_exporter": "python",
   "pygments_lexer": "ipython2",
   "version": "2.7.6"
  }
 },
 "nbformat": 4,
 "nbformat_minor": 5
}
