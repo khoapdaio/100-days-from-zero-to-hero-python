{
 "cells": [
  {
   "metadata": {},
   "cell_type": "markdown",
   "source": "# Day 27: Matrix with Numpy",
   "id": "78e47aa1ad136f01"
  },
  {
   "metadata": {},
   "cell_type": "markdown",
   "source": [
    "#### 1. Giới thiệu \n",
    "\n",
    "Ma trận là một công cụ toán học quan trọng trong trí tuệ nhân tạo (AI). Chúng được sử dụng để biểu diễn và thao tác dữ liệu, cũng như trong các phép tính tuyến tnh cần thiết cho việc học máy(Machine learning) và học sâu (deep learning)"
   ],
   "id": "98cc2d7c7907414c"
  },
  {
   "metadata": {},
   "cell_type": "markdown",
   "source": [
    "#### 2. Định nghĩa ma trận\n",
    "\n",
    "Một ma trận là một mảng chủ nhật của các số, sắp xếp theo hàng và cột. Ma trận A với m hàng và n cột được ký hiệu là:\n",
    "\n",
    "$$\n",
    "A = \\begin{bmatrix}\n",
    "a_{11} & a_{12} & \\cdots & a_{1n} \\\\\n",
    "a_{21} & a_{22} & \\cdots & a_{2n} \\\\\n",
    "\\vdots & \\vdots & \\ddots & \\vdots \\\\\n",
    "a_{m1} & a_{m2} & \\cdots & a_{mn}\n",
    "\\end{bmatrix}\n",
    "$$\n"
   ],
   "id": "8b13a8e52f377183"
  },
  {
   "metadata": {},
   "cell_type": "markdown",
   "source": [
    "#### 3. Các phép toán cơ bản \n",
    "\n",
    "##### Phép cộng ma trận\n",
    "\n",
    "Hai ma trận A và B có cùng kích thước có thể được cộng lại với nhau bằng cách cộng từng phần tử tương ứng:\n",
    "$$\n",
    "\\text{C = A + B với } c_{ij} = a_{ij}+ b_{ij}\n",
    "$$\n",
    "\n",
    "##### Phép nhân ma trận\n",
    "Phép nhân hai ma trận A và B chỉ có thể thực hiện được khi số cột của A bằng hằng số hàng của B. Phần ử cij của ma trận tích C= AB được tính như sau:\n",
    "$$\n",
    "c_{ij} = \\sum_{k=1}^{n} a_{ik} b_{kj}\n",
    "$$\n",
    "\n",
    "##### Ma trận chuyển vị\n",
    "Ma trận chuyển vị của ma trận A, Ký hiệu là A^T, là ma trận được tạo ra bằng cách hoán đổi hàng và cột của A:\n",
    "$$\n",
    "(A^T)_{ij}=A_{ji}\n",
    "$$\n",
    "##### Ma trận nghịch đảo \n",
    "Ma trận nghịch đảo của ma trận vuông A, ký hiệu là A^(-1), là ma trận sao cho:\n",
    "$$\n",
    "AA^{-1}=A^{-1}A=1\n",
    "$$\n",
    "với I là ma trận đơn vị. Không phải mọi ma trận vuông đều có ma trạn nghịch đảo.\n",
    "##### Định thức\n",
    "Định thức là một giá trị vô hướng có thể tính toán từ một ma trận vuông và cung cấp thông tin quan trọng về ma trận đó. Định tức của ma trận A được ký hiệu là det(A) hoặc |A|."
   ],
   "id": "b85ddfe3cbd72b36"
  },
  {
   "metadata": {},
   "cell_type": "markdown",
   "source": [
    "### 4. Ứng dụng của ma trận trong AI\n",
    "Ma trận được sử dụng rộng rãi trong AI, đặc biệt là trong các lĩnh vực sau:\n",
    "\n",
    "\n",
    "#### Biểu diễn dữ liệu \n",
    "Dữ liệu trong AI thường được biểu diễn dưới dạng ma trận. Ví dụ, một hình ảnh có thể được biểu diễn như một ma trận của các giá trị pixel \n",
    "\n",
    "\n",
    "#### Mạng Nơ-ron Nhân Tạo\n",
    "Ma trận được sử dụng để biểu diễn các trọng số và tính toàn trong các lớp của mạng nơ-ron nhân tạo \n",
    "\n",
    "\n",
    "#### Phân tích dữ liệu\n",
    "Các phép toán ma trận được sử dụng trong nhiều thuật toán học máy để phân tích và biến đổi dữ liệu, như PCA (Phân tích thành phần chính)"
   ],
   "id": "ca5fa6ed4086520e"
  },
  {
   "metadata": {},
   "cell_type": "markdown",
   "source": "### 5. Bài tập",
   "id": "c435a6177ceefcbb"
  },
  {
   "metadata": {},
   "cell_type": "code",
   "outputs": [],
   "execution_count": null,
   "source": "import numpy as np",
   "id": "39a72f6350ec66e"
  },
  {
   "metadata": {},
   "cell_type": "markdown",
   "source": [
    "#### Bài tập 1: Tạo ma trận\n",
    "Viết mã Python để tạo một ma trận 3X3 với các phần tử ngẫu nhieen"
   ],
   "id": "698fc6e48d1d0713"
  },
  {
   "metadata": {
    "ExecuteTime": {
     "end_time": "2024-07-19T08:49:52.480530Z",
     "start_time": "2024-07-19T08:49:51.718135Z"
    }
   },
   "cell_type": "code",
   "source": [
    "matrix = np.random.randint(0, 10, (3, 3))\n",
    "print(\"Ma trận 3x3 với các phần tử ngẫu nhiên:\\n\", matrix)"
   ],
   "id": "2645d45afd715e61",
   "outputs": [
    {
     "name": "stdout",
     "output_type": "stream",
     "text": [
      "Ma trận 3x3 với các phần tử ngẫu nhiên:\n",
      " [[2 2 5]\n",
      " [1 9 0]\n",
      " [9 1 7]]\n"
     ]
    }
   ],
   "execution_count": 1
  },
  {
   "metadata": {},
   "cell_type": "markdown",
   "source": [
    "#### Bài tập 2: Phép cộng ma trận\n",
    "Viết mã Python để cộng hai ma trận 3x3"
   ],
   "id": "d58da62a4953a47c"
  },
  {
   "metadata": {
    "ExecuteTime": {
     "end_time": "2024-07-19T09:06:35.768148Z",
     "start_time": "2024-07-19T09:06:35.761291Z"
    }
   },
   "cell_type": "code",
   "source": [
    "matrix1 = np.random.randint(0, 10, (3, 3))\n",
    "print(\"Ma trận 1 :\\n\", matrix1)\n",
    "matrix2 = np.random.randint(0, 10, (3, 3))\n",
    "print(\"Ma trận 2 :\\n\", matrix2)\n",
    "\n",
    "matrix_sum = matrix1 + matrix2\n",
    "\n",
    "print(\"Tổng của hai ma trận: \\n\", matrix_sum)"
   ],
   "id": "9f94b29bdf066fcf",
   "outputs": [
    {
     "name": "stdout",
     "output_type": "stream",
     "text": [
      "Ma trận 1 :\n",
      " [[6 3 7]\n",
      " [1 2 0]\n",
      " [4 2 5]]\n",
      "Ma trận 2 :\n",
      " [[1 9 7]\n",
      " [0 9 1]\n",
      " [7 4 4]]\n",
      "Tổng của hai ma trận: \n",
      " [[ 7 12 14]\n",
      " [ 1 11  1]\n",
      " [11  6  9]]\n",
      "Tổng của hai ma trận custom: \n",
      " [array([ 7, 12, 14]), array([ 1, 11,  1]), array([11,  6,  9])]\n"
     ]
    }
   ],
   "execution_count": 13
  },
  {
   "metadata": {},
   "cell_type": "markdown",
   "source": [
    "#### Bài tập 3: Phép nhân ma trận\n",
    "Viết mã Python để nhân hai ma trận 3x3"
   ],
   "id": "f7409e1d418a0508"
  },
  {
   "metadata": {
    "ExecuteTime": {
     "end_time": "2024-07-19T08:55:27.208083Z",
     "start_time": "2024-07-19T08:55:27.202549Z"
    }
   },
   "cell_type": "code",
   "source": [
    "matrix1 = np.random.randint(0, 10, (3, 3))\n",
    "print(\"Ma trận 1 :\\n\", matrix1)\n",
    "matrix2 = np.random.randint(0, 10, (3, 3))\n",
    "print(\"Ma trận 2:\\n\", matrix2)\n",
    "\n",
    "matrix_product = np.dot(matrix1, matrix2)\n",
    "print(\"Tích của hai ma trận:\\n\", matrix_product)"
   ],
   "id": "65e04ca6138c6fc0",
   "outputs": [
    {
     "name": "stdout",
     "output_type": "stream",
     "text": [
      "Ma trận 1 :\n",
      " [[7 8 8]\n",
      " [8 4 3]\n",
      " [9 8 4]]\n",
      "Ma trận 2:\n",
      " [[6 6 8]\n",
      " [5 4 9]\n",
      " [7 3 8]]\n",
      "Tích của hai ma trận:\n",
      " [[138  98 192]\n",
      " [ 89  73 124]\n",
      " [122  98 176]]\n"
     ]
    }
   ],
   "execution_count": 4
  },
  {
   "metadata": {},
   "cell_type": "markdown",
   "source": [
    "#### Bài tập 4: Ma trận chuyển vị\n",
    "Viết mã Python để tìm ma trận chuyển vị của một ma trận 3x3"
   ],
   "id": "c666324da9238191"
  },
  {
   "metadata": {
    "ExecuteTime": {
     "end_time": "2024-07-19T08:58:38.881391Z",
     "start_time": "2024-07-19T08:58:38.875390Z"
    }
   },
   "cell_type": "code",
   "source": [
    "matrix= np.random.randint(0, 10, (3, 3))\n",
    "print(\"Ma trận :\\n\",matrix)\n",
    "\n",
    "matrix_transpose = np.transpose(matrix)\n",
    "print(\"Ma trận chuyển vị:\\n\", matrix_transpose)\n"
   ],
   "id": "a9f9d8afb6157e0f",
   "outputs": [
    {
     "name": "stdout",
     "output_type": "stream",
     "text": [
      "Ma trận :\n",
      " [[7 8 1]\n",
      " [9 9 8]\n",
      " [5 3 6]]\n",
      "Ma trận chuyển vị:\n",
      " [[7 9 5]\n",
      " [8 9 3]\n",
      " [1 8 6]]\n"
     ]
    }
   ],
   "execution_count": 5
  },
  {
   "metadata": {},
   "cell_type": "markdown",
   "source": [
    "#### Bài Tập 5: Ma trận nghịch đảo\n",
    "Viết mã Python để tìm ma trận nghịch đảo của một ma trận 3x3 (nếu có) "
   ],
   "id": "be2a4f789319f1b7"
  },
  {
   "metadata": {
    "ExecuteTime": {
     "end_time": "2024-07-19T09:01:44.884297Z",
     "start_time": "2024-07-19T09:01:44.879635Z"
    }
   },
   "cell_type": "code",
   "source": [
    "matrix  = np.random.randint(0, 10, (3, 3))\n",
    "print(\"Ma trận :\\n\", matrix)\n",
    "try:\n",
    "    matrix_inverse=np.linalg.inv(matrix)\n",
    "    print(\"Ma trận nghịch đảo: \\n\",matrix_inverse)\n",
    "except np.linalg.LinAlgError:\n",
    "    print(\"Ma trận không khả nghịch\")"
   ],
   "id": "47b53b7fb036dd81",
   "outputs": [
    {
     "name": "stdout",
     "output_type": "stream",
     "text": [
      "Ma trận nghịch đảo: \n",
      " [[ 0.16078431 -0.08235294  0.01176471]\n",
      " [-0.07058824  0.01176471  0.14117647]\n",
      " [-0.14901961  0.24705882 -0.03529412]]\n"
     ]
    }
   ],
   "execution_count": 10
  },
  {
   "metadata": {},
   "cell_type": "markdown",
   "source": [
    "#### Bài tập 6: Tính định thức ma trận\n",
    "Viết mã Python để tính định thức của một ma trận 3x3"
   ],
   "id": "245489cad8e373be"
  },
  {
   "metadata": {
    "ExecuteTime": {
     "end_time": "2024-07-19T09:05:14.025779Z",
     "start_time": "2024-07-19T09:05:14.020344Z"
    }
   },
   "cell_type": "code",
   "source": [
    "matrix=np.random.randint(0, 10, (3, 3))\n",
    "print(\"Ma trận :\\n\", matrix)\n",
    "\n",
    "det=np.linalg.det(matrix)\n",
    "print(\"Định thức của ma trận:\\n\", det)"
   ],
   "id": "d57d6d6971321145",
   "outputs": [
    {
     "name": "stdout",
     "output_type": "stream",
     "text": [
      "Ma trận :\n",
      " [[4 1 5]\n",
      " [9 9 1]\n",
      " [8 6 1]]\n",
      "Định thức của ma trận:\n",
      " -79.0\n"
     ]
    }
   ],
   "execution_count": 12
  }
 ],
 "metadata": {
  "kernelspec": {
   "display_name": "Python 3",
   "language": "python",
   "name": "python3"
  },
  "language_info": {
   "codemirror_mode": {
    "name": "ipython",
    "version": 2
   },
   "file_extension": ".py",
   "mimetype": "text/x-python",
   "name": "python",
   "nbconvert_exporter": "python",
   "pygments_lexer": "ipython2",
   "version": "2.7.6"
  }
 },
 "nbformat": 4,
 "nbformat_minor": 5
}
