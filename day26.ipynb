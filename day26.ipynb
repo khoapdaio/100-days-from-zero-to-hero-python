{
 "cells": [
  {
   "metadata": {},
   "cell_type": "markdown",
   "source": [
    "Đề bài : \n",
    "\n",
    "Một cửa hàng quần áo cần xây dựng cơ sở dữ liệu cho ứng dụng quản lý bán hàng online gồm có các bảng như sau:\n",
    "\n",
    "- Bảng Category(lưu trữ các danh mục sản phẩm)\n",
    "- Bảng Product(Lưu trữ các sản phẩm theo danh mục)\n",
    "- Bảng Customer(Lưu trữ thông tin khách hàng)\n",
    "- Bảng Orders (lưu trư các hóa đơn của khách hàng khi họ mua hàng) \n",
    "- Bảng OrderDetail(chi tiết hóa đơn)"
   ],
   "id": "a5c48362406956a"
  },
  {
   "metadata": {},
   "cell_type": "markdown",
   "source": "## Kết nối tới db",
   "id": "4cf55256db94c075"
  },
  {
   "cell_type": "code",
   "id": "initial_id",
   "metadata": {
    "collapsed": true,
    "ExecuteTime": {
     "end_time": "2024-07-21T10:31:37.891810Z",
     "start_time": "2024-07-21T10:31:37.883865Z"
    }
   },
   "source": [
    "import sqlite3\n",
    "\n",
    "conn = sqlite3.connect('data/store.db')\n",
    "c = conn.cursor()"
   ],
   "outputs": [],
   "execution_count": 1
  },
  {
   "metadata": {},
   "cell_type": "markdown",
   "source": "## Tạo các bảng theo yêu cầu",
   "id": "afce1138ceb16211"
  },
  {
   "metadata": {
    "ExecuteTime": {
     "end_time": "2024-07-19T00:49:00.153454Z",
     "start_time": "2024-07-19T00:49:00.129084Z"
    }
   },
   "cell_type": "code",
   "source": [
    "# Tạo bảng Category\n",
    "c.execute('''\n",
    "CREATE TABLE IF NOT EXISTS CATEGORY (\n",
    "    ID INTEGER PRIMARY KEY AUTOINCREMENT,\n",
    "    NAME VARCHAR NOT NULL,\n",
    "    STATUS BOOLEAN\n",
    ")\n",
    "''')\n",
    "\n",
    "# Tạo bảng Product\n",
    "c.execute('''\n",
    "CREATE TABLE IF NOT EXISTS PRODUCT (\n",
    "    ID INTEGER PRIMARY KEY AUTOINCREMENT,\n",
    "    NAME TEXT NOT NULL,\n",
    "    STATUS BOOLEAN,\n",
    "    PRICE REAL,\n",
    "    SALE_PRICE REAL,\n",
    "    CREATED_DATE DATE,\n",
    "    CATEGORY_ID INTEGER,\n",
    "    FOREIGN KEY (CATEGORY_ID) REFERENCES CATEGORY (ID)\n",
    "    \n",
    ")\n",
    "''')\n",
    "c.execute('''\n",
    "CREATE INDEX IF NOT EXISTS IDX_PRODUCT_NAME ON PRODUCT (NAME);\n",
    "''')\n",
    "# Tạo bảng Customer\n",
    "c.execute('''\n",
    "CREATE TABLE IF NOT EXISTS CUSTOMER (\n",
    "    ID INTEGER PRIMARY KEY AUTOINCREMENT,\n",
    "    NAME TEXT NOT NULL ,\n",
    "    EMAIL TEXT,\n",
    "    PHONE TEXT,\n",
    "    ADDRESS TEXT,\n",
    "    CREATED_DATE DATE,\n",
    "    GENDER BOOLEAN,\n",
    "    BIRTH_DAY DATE\n",
    ")\n",
    "''')\n",
    "\n",
    "# Tạo bảng Orders\n",
    "c.execute('''\n",
    "CREATE TABLE IF NOT EXISTS ORDERS (\n",
    "    ID INTEGER PRIMARY KEY AUTOINCREMENT,\n",
    "    CUSTOMER_ID INTEGER NOT NULL,\n",
    "    STATUS BOOLEAN,\n",
    "    ORDER_DATE DATE NOT NULL,\n",
    "    FOREIGN KEY (CUSTOMER_ID) REFERENCES CUSTOMER (ID)\n",
    ")\n",
    "''')\n",
    "\n",
    "# Tạo bảng OrderDetail\n",
    "c.execute('''\n",
    "CREATE TABLE IF NOT EXISTS ORDER_DETAIL (\n",
    "    ORDER_ID INTEGER NOT NULL,\n",
    "    PRODUCT_ID INTEGER NOT NULL,\n",
    "    QUANTITY INTEGER NOT NULL,\n",
    "    PRICE REAL NOT NULL,\n",
    "    FOREIGN KEY (ORDER_ID) REFERENCES ORDERS (ID),\n",
    "    FOREIGN KEY (PRODUCT_ID) REFERENCES PRODUCT (ID)\n",
    ")\n",
    "''')\n",
    "\n",
    "# Lưu thay đổi và đóng kết nối\n",
    "conn.commit()"
   ],
   "id": "e90f40b8492561be",
   "outputs": [],
   "execution_count": 8
  },
  {
   "metadata": {},
   "cell_type": "markdown",
   "source": "Thêm dữ liệu vào bảng category",
   "id": "b80fab8dd20a8733"
  },
  {
   "metadata": {
    "ExecuteTime": {
     "end_time": "2024-07-19T00:45:51.958356Z",
     "start_time": "2024-07-19T00:45:51.949010Z"
    }
   },
   "cell_type": "code",
   "source": [
    "categories = [\n",
    "\t(\"Men's Clothing\", True),\n",
    "\t(\"Women's Clothing\", True),\n",
    "\t(\"Kid's Clothing\", True),\n",
    "\t(\"Accessories\", True),\n",
    "\t(\"Shoes\", True)\n",
    "]\n",
    "\n",
    "c.executemany('''\n",
    "INSERT INTO CATEGORY (NAME, STATUS) VALUES (?, ?)\n",
    "''', categories)"
   ],
   "id": "3f71b290913ddf4d",
   "outputs": [
    {
     "data": {
      "text/plain": [
       "<sqlite3.Cursor at 0x2027daf0240>"
      ]
     },
     "execution_count": 3,
     "metadata": {},
     "output_type": "execute_result"
    }
   ],
   "execution_count": 3
  },
  {
   "metadata": {},
   "cell_type": "markdown",
   "source": "Thêm dữ liệu vào bảng product",
   "id": "4d2e01ae6129887d"
  },
  {
   "metadata": {
    "ExecuteTime": {
     "end_time": "2024-07-19T00:45:54.157788Z",
     "start_time": "2024-07-19T00:45:54.148864Z"
    }
   },
   "cell_type": "code",
   "source": [
    "products = [\n",
    "\t(\"T-Shirt\", True, 19.99, 15.99, '2024-01-01', 1),\n",
    "\t(\"Jeans\", True, 39.99, 29.99, '2024-01-02', 1),\n",
    "\t(\"Jacket\", True, 59.99, 49.99, '2024-01-03', 1),\n",
    "\t(\"Dress\", True, 49.99, 39.99, '2024-01-04', 2),\n",
    "\t(\"Skirt\", True, 29.99, 19.99, '2024-01-05', 2),\n",
    "\t(\"Blouse\", True, 39.99, 29.99, '2024-01-06', 2),\n",
    "\t(\"Kid's T-Shirt\", True, 9.99, 7.99, '2024-01-07', 3),\n",
    "\t(\"Kid's Jeans\", True, 19.99, 14.99, '2024-01-08', 3),\n",
    "\t(\"Kid's Jacket\", True, 29.99, 24.99, '2024-01-09', 3),\n",
    "\t(\"Hat\", True, 14.99, 9.99, '2024-01-10', 4),\n",
    "\t(\"Scarf\", True, 19.99, 14.99, '2024-01-11', 4),\n",
    "\t(\"Belt\", True, 24.99, 19.99, '2024-01-12', 4),\n",
    "\t(\"Sneakers\", True, 49.99, 39.99, '2024-01-13', 5),\n",
    "\t(\"Boots\", True, 69.99, 59.99, '2024-01-14', 5),\n",
    "\t(\"Sandals\", True, 29.99, 24.99, '2024-01-15', 5)\n",
    "]\n",
    "\n",
    "c.executemany('''\n",
    "INSERT INTO PRODUCT (NAME, STATUS, PRICE, SALE_PRICE, CREATED_DATE, CATEGORY_ID) VALUES (?, ?, ?, ?, ?, ?)\n",
    "''', products)"
   ],
   "id": "bed622c7b8652633",
   "outputs": [
    {
     "data": {
      "text/plain": [
       "<sqlite3.Cursor at 0x2027daf0240>"
      ]
     },
     "execution_count": 4,
     "metadata": {},
     "output_type": "execute_result"
    }
   ],
   "execution_count": 4
  },
  {
   "metadata": {},
   "cell_type": "markdown",
   "source": "Thêm dữ liệu vào bảng customer",
   "id": "969c9a9427780f12"
  },
  {
   "metadata": {
    "ExecuteTime": {
     "end_time": "2024-07-19T00:45:57.248682Z",
     "start_time": "2024-07-19T00:45:57.242377Z"
    }
   },
   "cell_type": "code",
   "source": [
    "customers = [\n",
    "\t(\"Alice\", \"alice@example.com\", \"1234567890\", \"123 Main St\", '2024-01-01', True, '1990-01-01'),\n",
    "\t(\"Bob\", \"bob@example.com\", \"0987654321\", \"456 Elm St\", '2024-01-02', False, '1985-02-02'),\n",
    "\t(\"Charlie\", \"charlie@example.com\", \"5678901234\", \"789 Oak St\", '2024-01-03', True, '1995-03-03')\n",
    "]\n",
    "\n",
    "c.executemany('''\n",
    "INSERT INTO CUSTOMER (NAME, EMAIL, PHONE, ADDRESS, CREATED_DATE, GENDER, BIRTH_DAY) VALUES (?, ?, ?, ?, ?, ?, ?)\n",
    "''', customers)\n"
   ],
   "id": "9376ff31d6cc0db6",
   "outputs": [
    {
     "data": {
      "text/plain": [
       "<sqlite3.Cursor at 0x2027daf0240>"
      ]
     },
     "execution_count": 5,
     "metadata": {},
     "output_type": "execute_result"
    }
   ],
   "execution_count": 5
  },
  {
   "metadata": {},
   "cell_type": "markdown",
   "source": "Thêm dữ liệu vào bảng orders",
   "id": "6f34f0c8acfd4a2e"
  },
  {
   "metadata": {
    "ExecuteTime": {
     "end_time": "2024-07-19T00:49:11.103166Z",
     "start_time": "2024-07-19T00:49:11.096822Z"
    }
   },
   "cell_type": "code",
   "source": [
    "orders = [\n",
    "\t(1, True, '2024-02-01'),\n",
    "\t(2, True, '2024-02-02'),\n",
    "\t(3, True, '2024-02-03')\n",
    "]\n",
    "\n",
    "c.executemany('''\n",
    "INSERT INTO ORDERS (CUSTOMER_ID, STATUS, ORDER_DATE) VALUES (?, ?, ?)\n",
    "''', orders)\n"
   ],
   "id": "6b12d2fb836672ca",
   "outputs": [
    {
     "data": {
      "text/plain": [
       "<sqlite3.Cursor at 0x2027daf0240>"
      ]
     },
     "execution_count": 9,
     "metadata": {},
     "output_type": "execute_result"
    }
   ],
   "execution_count": 9
  },
  {
   "metadata": {},
   "cell_type": "markdown",
   "source": "Thêm dữ liệu vào bảng order_detail",
   "id": "141b768857afe23b"
  },
  {
   "metadata": {
    "ExecuteTime": {
     "end_time": "2024-07-19T00:49:13.200148Z",
     "start_time": "2024-07-19T00:49:13.192203Z"
    }
   },
   "cell_type": "code",
   "source": [
    "order_details = [\n",
    "\t(1, 1, 2, 15.99),\n",
    "\t(1, 2, 1, 29.99),\n",
    "\t(2, 3, 1, 49.99),\n",
    "\t(2, 4, 2, 39.99),\n",
    "\t(3, 5, 1, 19.99),\n",
    "\t(3, 6, 2, 29.99)\n",
    "]\n",
    "\n",
    "c.executemany('''\n",
    "INSERT INTO ORDER_DETAIL (ORDER_ID, PRODUCT_ID, QUANTITY, PRICE) VALUES (?, ?, ?, ?)\n",
    "''', order_details)\n"
   ],
   "id": "de4362f957b89f33",
   "outputs": [
    {
     "data": {
      "text/plain": [
       "<sqlite3.Cursor at 0x2027daf0240>"
      ]
     },
     "execution_count": 10,
     "metadata": {},
     "output_type": "execute_result"
    }
   ],
   "execution_count": 10
  },
  {
   "metadata": {
    "ExecuteTime": {
     "end_time": "2024-07-19T00:49:15.294Z",
     "start_time": "2024-07-19T00:49:15.274562Z"
    }
   },
   "cell_type": "code",
   "source": "conn.commit()",
   "id": "b016b46f7cad6c84",
   "outputs": [],
   "execution_count": 11
  },
  {
   "metadata": {},
   "cell_type": "markdown",
   "source": "#### Yêu cầu truy vấn dữ liệu",
   "id": "a21fa9c282638646"
  },
  {
   "metadata": {},
   "cell_type": "markdown",
   "source": "1. Lấy ra danh sách sản phẩm có sắp xếp giảm dần theo Price gồm các cột sau: : Id, Name, Price, SalePrice, Status, CategoryName, CreatedDate",
   "id": "cdec4f7fa7e59b5d"
  },
  {
   "metadata": {
    "ExecuteTime": {
     "end_time": "2024-07-19T02:37:00.789431Z",
     "start_time": "2024-07-19T02:37:00.780481Z"
    }
   },
   "cell_type": "code",
   "source": [
    "data = c.execute('''\n",
    "SELECT P.ID, P.NAME, PRICE, SALE_PRICE, P.STATUS, C.NAME AS CATEGORY_NAME , P.CREATED_DATE \n",
    "FROM PRODUCT P\n",
    "INNER JOIN CATEGORY C ON P.CATEGORY_ID = C.ID ORDER BY PRICE DESC \n",
    "''')\n",
    "data.fetchall()"
   ],
   "id": "4198794600246a1a",
   "outputs": [
    {
     "data": {
      "text/plain": [
       "[(14, 'Boots', 69.99, 59.99, 1, 'Shoes', '2024-01-14'),\n",
       " (3, 'Jacket', 59.99, 49.99, 1, \"Men's Clothing\", '2024-01-03'),\n",
       " (4, 'Dress', 49.99, 39.99, 1, \"Women's Clothing\", '2024-01-04'),\n",
       " (13, 'Sneakers', 49.99, 39.99, 1, 'Shoes', '2024-01-13'),\n",
       " (2, 'Jeans', 39.99, 29.99, 1, \"Men's Clothing\", '2024-01-02'),\n",
       " (6, 'Blouse', 39.99, 29.99, 1, \"Women's Clothing\", '2024-01-06'),\n",
       " (5, 'Skirt', 29.99, 19.99, 1, \"Women's Clothing\", '2024-01-05'),\n",
       " (9, \"Kid's Jacket\", 29.99, 24.99, 1, \"Kid's Clothing\", '2024-01-09'),\n",
       " (15, 'Sandals', 29.99, 24.99, 1, 'Shoes', '2024-01-15'),\n",
       " (12, 'Belt', 24.99, 19.99, 1, 'Accessories', '2024-01-12'),\n",
       " (1, 'T-Shirt', 19.99, 15.99, 1, \"Men's Clothing\", '2024-01-01'),\n",
       " (8, \"Kid's Jeans\", 19.99, 14.99, 1, \"Kid's Clothing\", '2024-01-08'),\n",
       " (11, 'Scarf', 19.99, 14.99, 1, 'Accessories', '2024-01-11'),\n",
       " (10, 'Hat', 14.99, 9.99, 1, 'Accessories', '2024-01-10'),\n",
       " (7, \"Kid's T-Shirt\", 9.99, 7.99, 1, \"Kid's Clothing\", '2024-01-07')]"
      ]
     },
     "execution_count": 21,
     "metadata": {},
     "output_type": "execute_result"
    }
   ],
   "execution_count": 21
  },
  {
   "metadata": {},
   "cell_type": "markdown",
   "source": "2. lấy ra danh sách Category gồm: Id, Name, TotalProduct, Status",
   "id": "265739256f39efdd"
  },
  {
   "metadata": {
    "ExecuteTime": {
     "end_time": "2024-07-19T02:39:02.755325Z",
     "start_time": "2024-07-19T02:39:02.739039Z"
    }
   },
   "cell_type": "code",
   "source": [
    "data = c.execute('''\n",
    "SELECT C.ID, C.NAME, C.STATUS, COUNT(P.ID)AS TOTAL_PRODUCT\n",
    "FROM PRODUCT P\n",
    "INNER JOIN CATEGORY C ON P.CATEGORY_ID = C.ID\n",
    "GROUP BY P.CATEGORY_ID\n",
    "''')\n",
    "data.fetchall()"
   ],
   "id": "8ae893b83c47eb57",
   "outputs": [
    {
     "data": {
      "text/plain": [
       "[(1, \"Men's Clothing\", 1, 3),\n",
       " (2, \"Women's Clothing\", 1, 3),\n",
       " (3, \"Kid's Clothing\", 1, 3),\n",
       " (4, 'Accessories', 1, 3),\n",
       " (5, 'Shoes', 1, 3)]"
      ]
     },
     "execution_count": 22,
     "metadata": {},
     "output_type": "execute_result"
    }
   ],
   "execution_count": 22
  },
  {
   "metadata": {},
   "cell_type": "markdown",
   "source": [
    "3. Truy vấn danh sách Customer gồm: Id, Name, Email, Phone, Address,\n",
    "CreatedDate, Gender, BirthDay, Age (Age là cột suy ra từ BirthDay, Gender nếu = 0\n",
    "là Nam, 1 là Nữ ) ( Age = năm hiện tại - năm sinh của BirthDay)\n"
   ],
   "id": "c10c971e9f772d6e"
  },
  {
   "metadata": {
    "ExecuteTime": {
     "end_time": "2024-07-21T10:37:03.042489Z",
     "start_time": "2024-07-21T10:37:03.036447Z"
    }
   },
   "cell_type": "code",
   "source": [
    "data = c.execute('''\n",
    "SELECT ID,NAME,EMAIL,PHONE, ADDRESS, CREATED_DATE,\n",
    "CASE WHEN GENDER = 1 THEN 'Male'\n",
    "ELSE 'Female' END AS GENDER,\n",
    " CAST((STRFTIME('%Y', 'NOW') - STRFTIME('%Y', BIRTH_DAY))\n",
    " - (STRFTIME('%m-%d', 'NOW') < STRFTIME('%m-%d', BIRTH_DAY))\n",
    " AS INTEGER) AS AGE\n",
    "FROM CUSTOMER C\n",
    "\n",
    "''')\n",
    "data.fetchall()"
   ],
   "id": "1775aa144dc51545",
   "outputs": [
    {
     "data": {
      "text/plain": [
       "[(1,\n",
       "  'Alice',\n",
       "  'alice@example.com',\n",
       "  '1234567890',\n",
       "  '123 Main St',\n",
       "  '2024-01-01',\n",
       "  'Male',\n",
       "  34),\n",
       " (2,\n",
       "  'Bob',\n",
       "  'bob@example.com',\n",
       "  '0987654321',\n",
       "  '456 Elm St',\n",
       "  '2024-01-02',\n",
       "  'Female',\n",
       "  39),\n",
       " (3,\n",
       "  'Charlie',\n",
       "  'charlie@example.com',\n",
       "  '5678901234',\n",
       "  '789 Oak St',\n",
       "  '2024-01-03',\n",
       "  'Male',\n",
       "  29)]"
      ]
     },
     "execution_count": 10,
     "metadata": {},
     "output_type": "execute_result"
    }
   ],
   "execution_count": 10
  },
  {
   "metadata": {},
   "cell_type": "markdown",
   "source": "4. Truy vấn xóa các sản phẩm chưa được bán ",
   "id": "80da73f6ffdee66b"
  },
  {
   "metadata": {
    "ExecuteTime": {
     "end_time": "2024-07-19T03:05:59.210510Z",
     "start_time": "2024-07-19T03:05:59.200603Z"
    }
   },
   "cell_type": "code",
   "source": [
    "# đầu tiên hãy commit tất cả các transaction bên trên đã\n",
    "conn.commit()"
   ],
   "id": "c68d811dbc0797ae",
   "outputs": [],
   "execution_count": 26
  },
  {
   "metadata": {},
   "cell_type": "markdown",
   "source": "- cách 1: xóa cứng (dùng câu lệnh delete )",
   "id": "8c711b5cc5551055"
  },
  {
   "metadata": {},
   "cell_type": "code",
   "outputs": [],
   "execution_count": null,
   "source": [
    "c.execute('''\n",
    "DELETE FROM PRODUCTS P \n",
    "WHERE \n",
    "ID NOT IN (SELECT PRODUCT_ID FROM ORDERS_DETAIL GROUP BY PRODUCT_ID) \n",
    "''')"
   ],
   "id": "afcbd159753f2fcc"
  },
  {
   "metadata": {
    "ExecuteTime": {
     "end_time": "2024-07-19T03:14:53.892738Z",
     "start_time": "2024-07-19T03:14:53.870053Z"
    }
   },
   "cell_type": "code",
   "source": "conn.rollback()",
   "id": "5ee024e771229e1a",
   "outputs": [],
   "execution_count": 35
  },
  {
   "metadata": {},
   "cell_type": "markdown",
   "source": "- cách 2: xóa mềm (dùng câu lệnh update )",
   "id": "5a645186ca0c02a4"
  },
  {
   "metadata": {
    "ExecuteTime": {
     "end_time": "2024-07-19T03:14:42.525437Z",
     "start_time": "2024-07-19T03:14:42.518432Z"
    }
   },
   "cell_type": "code",
   "source": [
    "data=c.execute('''\n",
    "UPDATE PRODUCT \n",
    "SET STATUS = 0\n",
    "WHERE \n",
    "ID NOT IN (SELECT PRODUCT_ID FROM ORDER_DETAIL GROUP BY PRODUCT_ID) \n",
    "''')\n",
    "data.fetchall()"
   ],
   "id": "5191978fc2bbd04c",
   "outputs": [
    {
     "data": {
      "text/plain": [
       "[]"
      ]
     },
     "execution_count": 34,
     "metadata": {},
     "output_type": "execute_result"
    }
   ],
   "execution_count": 34
  },
  {
   "metadata": {
    "ExecuteTime": {
     "end_time": "2024-07-19T03:13:46.389249Z",
     "start_time": "2024-07-19T03:13:46.370249Z"
    }
   },
   "cell_type": "code",
   "source": "conn.commit()",
   "id": "a99f01de30e0a212",
   "outputs": [],
   "execution_count": 33
  },
  {
   "metadata": {},
   "cell_type": "markdown",
   "source": "5. Cập nhật Cột sale_price tăng thêm 10% cho tất cả các sản phẩm có sale price <= 250000",
   "id": "47a1e22781eed459"
  },
  {
   "metadata": {
    "ExecuteTime": {
     "end_time": "2024-07-19T03:26:29.547018Z",
     "start_time": "2024-07-19T03:26:29.526328Z"
    }
   },
   "cell_type": "code",
   "source": [
    "c.execute('''\n",
    "UPDATE PRODUCT \n",
    "SET SALE_PRICE = SALE_PRICE + SALE_PRICE/100*10\n",
    "WHERE SALE_PRICE <= 250000\n",
    "''')\n",
    "conn.commit()"
   ],
   "id": "a772699c3929d11c",
   "outputs": [],
   "execution_count": 40
  }
 ],
 "metadata": {
  "kernelspec": {
   "display_name": "Python 3",
   "language": "python",
   "name": "python3"
  },
  "language_info": {
   "codemirror_mode": {
    "name": "ipython",
    "version": 2
   },
   "file_extension": ".py",
   "mimetype": "text/x-python",
   "name": "python",
   "nbconvert_exporter": "python",
   "pygments_lexer": "ipython2",
   "version": "2.7.6"
  }
 },
 "nbformat": 4,
 "nbformat_minor": 5
}
