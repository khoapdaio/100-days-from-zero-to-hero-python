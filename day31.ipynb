{
 "cells": [
  {
   "metadata": {},
   "cell_type": "markdown",
   "source": [
    "### Day 31: Einsum in Numpy\n",
    "\n",
    "#### Confusion Matrix và Các Metric Đánh Giá\n",
    "\n",
    "Confusion matrix và các metrix đánh giá liên quan là những công cụ quan trọng học máy (Machine learning ) để đánh giá hiệu suất của mô hình phân loại. Dưới đây là mô tả chi tiết về confusion matrix và các metric đánh giá phổ biến:\n",
    "\n",
    "\n",
    "##### 1. Confusion Matrix\n",
    "\n",
    "Confusion matrix là một bảng ma trận có kích thước m x n (với m là số lượng lớp) được sử dụng để mô tả hiệu suất của một mô hình phân loại. Mỗi hng của ma trận đại diện cho các mẫu thuộc lớp thật (actual class), trong khi mỗi cột đại diện cho các mẫu được mô hình dự đoán (predicted class) \n",
    "\n",
    "\n",
    "\n",
    "|                  | Dự đoán: Positive | Dự đoán: Negative |\n",
    "|------------------|-------------------|-------------------|\n",
    "| **Thực tế: Positive** | TP                | FN                |\n",
    "| **Thực tế: Negative** | FP                | TN                |\n",
    " \n",
    "\n",
    "Một confusion matrix cơ bản cho bài toán phân loại nhị phân (2 lớp ) bao gồm 4 thành phần chính:\n",
    "\n",
    "- True Positive (TP): Số lượng mẫu mà mô hình dự đoán đúng là đúng.\n",
    "- True Negative (TN): Số lượng mẫu mà mô hình dự đoán đúng là sai.\n",
    "- False Positive (FP): Số lượng mẫu mà mô hình dự đoán là đúng nhưng thực tế là sai (còn gọi là Type I error)\n",
    "- False Negative (FN): Số lượng mẫu mà mô hình dự đoán là sai nhưng thực tế là đúng (còn gọi là Type II error)\n",
    "\n",
    "##### 2. Các metric đánh giá\n",
    "\n",
    "Từ các confusion matrix, chúng ta có thể tính toán các metric đánh giá hiệu suất của mô hình, bao gồm:\n",
    "\n",
    "###### Accuracy (Độ chính xác):\n",
    "$Accuracy = \\frac{TP+TN}{TP+TN+FP+FN}$\n",
    "\n",
    "Đây là tỉ lệ phần trăm các mẫu được dữ đoán đúng trong tổng số mẫu.\n",
    "\n",
    "##### Precision(Độ chính xác dương):\n",
    "$Precision=\\frac{TP}{TP+FP}$\n",
    "\n",
    "Đây là tỉ lệ mẫu dương thật trong số các mẫu được dự đoán là dương:\n",
    "\n",
    "##### Recall(Độ nhạy):\n",
    "$Recall=\\frac{TP}{TP+FN}$\n",
    "\n",
    "Đây là tỉ lệ mẫu dương thật được nhận diện đúng bởi mô hình \n",
    "\n",
    "##### Specificity(Độ đặc hiệu):\n",
    "\n",
    "$Specificity = \\frac{TN}{TN+FP}$\n",
    "\n",
    "Đây là tỉ lệ mẫu âm thật được nhận diện đúng bởi mô hình \n",
    "\n",
    "#### 3. Áp dụng và ý nghĩa\n",
    "- Accuracy là một chỉ số tổng quát, nhưng có thể gây hiểu nhầm nếu dữ liệu không cân bằng (chẳng hạn, khi số lượng mẫu thuộc một lớp nhiều hơn lớp còn lại )\n",
    "- Precision và Recall thường được sử dụng trong các tường hợp cần quan tâm đặc biệt đến các mẫu dương, như trong phát hiện bệnh tật(Dương tính à có bệnh).\n",
    "- Fi Score hữu ích khi muốn cân bằng giữa Precision và Recall, đặc biệt trong trường hợp dữ liệu không cân bằng.\n",
    "- Specificity quan trọng khi muốn đảm bảo rằng các mẫu âm không bị nhầm lẫn với các mẫu dương.\n",
    "\n",
    "Các metric này giúp cung cấp cái nhìn toàn diện về khả năng của mô hình phân loại, ừ đó có thể điều chỉnh và cải thiện mô hình cho phù hợp với bài toán thực tế.\n"
   ],
   "id": "2f75ecf9ce8f26bf"
  },
  {
   "metadata": {},
   "cell_type": "markdown",
   "source": [
    "#### 4. Bài tập\n",
    "Cho một tập ảnh gồm 1000 ảnh, trong đó có 400 ảnh là ảnh mèo và 600 ảnh còn lại là ảnh không phải mèo(là ảnh con chó, ảnh tivi, ảnh cây cối...) Xây dựng một cỗ máy tìm kiếm search engine để tìm kiếm ảnh theo từ khóa nhập vào. Khi mình gõ chữ mèo để tìm kiếm ảnh \"mèo\" thì kết quả máy tìm kiếm trả về 100 ảnh, trong đó có 98 ảnh mèo và 2 ảnh không phải mèo.\n"
   ],
   "id": "8f449562e1249d27"
  },
  {
   "metadata": {},
   "cell_type": "markdown",
   "source": [
    "#### Câu hỏi 1: Hãy xác định TP, TN, FP, FN dựa theo thông tin dưới đây:\n",
    "\n",
    "- 98 ảnh mèo (trong 100 ảnh do search engine trả về) được gọi là TP (True Positive)\n",
    "- 2 Ảnh không phải mèo(trong 100 ảnh do search engine trả về) được gọi là FP (False Positive)\n",
    "- 100 ảnh do search engine trả về được gọi là tổng số lượng ảnh dự đoán đúng là mèo: TP + FP \n",
    "- 302 ảnh mèo còn lại (400 ảnh mèo - 98 ảnh mèo) được gọi là số lượng ảnh được dự đoán sai là sai : FN\n",
    "- 598 ảnh không phải mèo còn lại (600 ảnh không phải mèo - 2 anh không phải mèo) được gọi là sô lượng ảnh dự đoán sai là đúng: TN"
   ],
   "id": "a161829af5f0e102"
  },
  {
   "metadata": {},
   "cell_type": "markdown",
   "source": [
    "##### Câu hỏi 2: Dựa trên câu hỏi 1, các bạn hãy tính precision, recall, f1 và đưa ra nhận xét\n",
    "\n",
    "Ta có : \n",
    "- TP = 98\n",
    "- FP = 2\n",
    "- FN = 302\n",
    "- TN = 598\n",
    "=> Ta có thể tính được precision, recall, f1\n",
    "\n",
    "$\\text{Accuracy} = \\frac{TP+TN}{TP+TN+FP+FN}=\\frac{98+598}{98+2+302+598}=\\frac{696}{1000}=0.696$,\n",
    "\n",
    "$\\text{Precision} = \\frac{TP}{TP+FP}=\\frac{98}{98+2}=\\frac{98}{100}=0.98$,\n",
    "\n",
    "\n",
    "$\\text{Recall} = \\frac{TP}{TP+FN}=\\frac{98}{98+302}=\\frac{98}{400}=0.2375$,\n",
    "\n",
    "\n",
    "$\\text{F1}=2*\\frac{Precision * Recall}{Precision+Recall}=\\frac{\\frac{98*98}{100*400}}{\\frac{98}{100}+\\frac{98}{400}}=\\frac{98^2}{400*100}*\\frac{400}{5*98} = 0.196$,\n",
    "\n",
    "$\\text{Specificity} = \\frac{TN}{TN+FP}= \\frac{598}{598+2}=\\frac{598}{600}\\approx 0.99$\n",
    "\n",
    "Ta sẽ có một vài nhận xét như sau:\n",
    "\n",
    "- Với precision ta có tỉ lệ 0.98 cao nhưng Recall lại chỉ được 0.2375 khá thấp => data train ít làm cho khả năng đoán ko được phong phú, nhưng tỉ lệ nhận diện tốt \n",
    "\n",
    "- Specify = 0.99 => Ảnh không phải là mèo được nhận biết tốt "
   ],
   "id": "8e5851f981bbef88"
  },
  {
   "metadata": {},
   "cell_type": "code",
   "outputs": [],
   "execution_count": null,
   "source": "",
   "id": "d46ad65a902f0490"
  }
 ],
 "metadata": {
  "kernelspec": {
   "display_name": "Python 3",
   "language": "python",
   "name": "python3"
  },
  "language_info": {
   "codemirror_mode": {
    "name": "ipython",
    "version": 2
   },
   "file_extension": ".py",
   "mimetype": "text/x-python",
   "name": "python",
   "nbconvert_exporter": "python",
   "pygments_lexer": "ipython2",
   "version": "2.7.6"
  }
 },
 "nbformat": 4,
 "nbformat_minor": 5
}
