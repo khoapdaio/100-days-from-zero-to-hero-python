{
 "cells": [
  {
   "metadata": {},
   "cell_type": "markdown",
   "source": [
    "## Day 34: Bài tập xác suất thống kê 2\n",
    "### Phần 1: Lý thuyết\n",
    "#### Xác suất cơ bản"
   ],
   "id": "71c6eeed229335fb"
  },
  {
   "metadata": {},
   "cell_type": "markdown",
   "source": [
    "#### 1. Xác suất của một sự kiện là gì\n",
    "\n",
    "- Xác suất là khả năng xảy ra một sự kiện \n",
    "- Xác suất của một sự kiện là một số trong khoảng từ 0 đến 1, nói cách khác, 0 biểu thị sự bất khả thi của sự kiện và 1 biểu thi sự chắc chắn.\n",
    "\n",
    "=> Đáp án D: Giá trị giữa 0 và 1"
   ],
   "id": "d19a4ed45a3b70a9"
  },
  {
   "metadata": {},
   "cell_type": "markdown",
   "source": [
    "#### 2. Nếu một con xúc xắc mặt được tung, xác suất để ra số 4 là bao nhiêu?\n",
    "\n",
    "- Một con xúc xắc có 6 mặt, mỗi mặt con xúc xắc được vẽ một số riêng biệt từ 1 -> 6 \n",
    "\n",
    "=> Xác suất để ra số 4 là $\\frac{1}{6}$\n",
    "\n",
    "=> Đáp án A: $\\frac{1}{6}$"
   ],
   "id": "aded0f176c060d9f"
  },
  {
   "metadata": {},
   "cell_type": "markdown",
   "source": [
    "#### 3. Xác suất của sự kiện đối lập với sự kiện chắc chắn là bao nhiêu?\n",
    "\n",
    "- Xác suất của sự kiện chắc chắn là 1 \n",
    "- Sự kiện đối lập với sự kiện chắc chắn là xác suất sự kiện bất khả thi có giá trị là 0\n",
    "\n",
    "=> Đáp án là A: 0"
   ],
   "id": "9dda05ddb4392579"
  },
  {
   "metadata": {},
   "cell_type": "markdown",
   "source": [
    "#### 4. Một bộ bài tiêu chuẩn có 52 lá, xác suất để rút được một lá bài là quân Át là bao nhiêu \n",
    "Trong một bộ bài có 4 quân Át \n",
    "\n",
    "=> Ta có xác suất để rút được một là bài quân Át = $\\frac{4}{52}=\\frac{1}{13}$\n",
    "\n",
    "=> Đáp án là A: $\\frac{1}{13}$"
   ],
   "id": "973f90941ef4f3bd"
  },
  {
   "metadata": {},
   "cell_type": "markdown",
   "source": [
    "#### 5. Khi Tung hai con xúc xắc, xác suất để tổng số điểm là 7 bao nhiêu?\n",
    "Ta có 6 khả năng khi tung hai con xúc xắc có tổng số điểm 7 là \n",
    "(5,2),(2,5),(4,3),(3,4),(1,6),(6,1)\n",
    " \n",
    "Một con xúc xắc có 6 mặt với các số từ 1 đến 6. Khi tung hai con xúc xắc, tổng số kết quả có thể xảy ra là 6*6 = 36\n",
    "\n",
    "=> Do đó, xác suất để tổng số điểm là: $\\frac{\\text{Số kết quả thuật lợi}}{\\text{Tổng số kết quả có thể}}=\\frac{6}{36}=\\frac{1}{6}$\n",
    "=> Đáp án là A: $\\frac{1}{6}$\n"
   ],
   "id": "6d0280df9769cc46"
  },
  {
   "metadata": {},
   "cell_type": "markdown",
   "source": [
    "### Xác suất có điều kiện\n",
    "#### 1. Xác suất có điều kiện là gì ?\n",
    "\n",
    "Xác suất có điều kiện là sự kiện xảy ra dưới điều kiện một sự kiện khác đã xảy ra"
   ],
   "id": "c8ebdc7b83dd8a40"
  },
  {
   "metadata": {},
   "cell_type": "markdown",
   "source": [
    "#### 2. Cho biết P(A) = 0.5 và P(B|A) = 0.8, tìm P( A ∩ B )\n",
    "\n",
    "Theo đề bài ta áp dụng công thức trong lý thuyết xác suất với A và B là các sự kiện không độc lập :\n",
    "\n",
    "$ P(A\\cap B)= P(A)* P(B|A)=0.5*0.8=0.4$\n",
    "\n",
    "Đáp án là A: 0.4"
   ],
   "id": "236c98a6bd9ceccc"
  },
  {
   "metadata": {},
   "cell_type": "markdown",
   "source": [
    "#### 3. Nếu A và B hai sự kiện độc lập và P(A)=0.3,P(0.4), xác suất P(A∩B) ?\n",
    "Theo đề bài ta áp dụng công thức trong lý thuyết xác suất với A và B là các sự kiện độc lập:\n",
    "$P(A \\cap B)=P(A)* P(B)=0.3*0.4=0.12$\n",
    "\n",
    "Đáp án là A: 0.12"
   ],
   "id": "3e68769d51457693"
  },
  {
   "metadata": {},
   "cell_type": "markdown",
   "source": [
    "#### 4. Nếu A và B là hai sự kiện độc lập, P(A)=0.5, P(B|A)=?\n",
    "Theo đề bài ta áp dụng công thức trong lý thuyết xác suất với A và B là các sự kiện độc lập  \n",
    "P(B|A)=P(B)=1-P(A)=1-0.5=0.5\n",
    "=> Đáp án là B: 0.5"
   ],
   "id": "11b684a6e260977a"
  },
  {
   "metadata": {},
   "cell_type": "markdown",
   "source": [
    "#### 5. Cho biết P(A∩B) = 0.2 và P(A) = 0.5, tìm P(B|A).\n",
    "Vì  P(A∩B)=  P(B∩A)\n",
    "Ta có P(B|A)= P(B∩A)/P(A) =0.2/0.5 = 0.4\n",
    "\n",
    "=> Đáp án là A: 0.4"
   ],
   "id": "db5fffcc38b1c307"
  },
  {
   "metadata": {},
   "cell_type": "markdown",
   "source": "### Covariance và Correlation",
   "id": "bfcbca36329ae6d5"
  },
  {
   "metadata": {},
   "cell_type": "markdown",
   "source": [
    "#### 1. Covariance là gì?\n",
    "Covariance là độ đo của sự thay đổi cùng chiều giữa hai biến số \n",
    "\n",
    "Đáp án là A: Độ đo của sự thay đổi cùng chiều giữa hai biến số"
   ],
   "id": "bc1be71c56ce392d"
  },
  {
   "metadata": {},
   "cell_type": "markdown",
   "source": [
    "#### 2. Correlation là gì\n",
    "Correlation là độ đo của mối quan hệ tuyn tính giữa hai biến số\n",
    "\n",
    "=> Đáp án là A: Độ đo của mối quan hệ tuyến tính giữa hai biến số"
   ],
   "id": "932e6c10931ce8dd"
  },
  {
   "metadata": {},
   "cell_type": "markdown",
   "source": [
    "#### 3. Nếu covariance giữa hai biến là 0, điều này có nghĩa là gì?\n",
    "Nếu covariance giữa hai biến là 0, điều này nói lên là không có mối quan hệ tuyến tính giữa hai biến\n",
    "\n",
    "=> Đáp án là B: Không có mối quan hệ tuyến tính giữa hai biến"
   ],
   "id": "85709aded83b277b"
  },
  {
   "metadata": {},
   "cell_type": "markdown",
   "source": [
    "#### 4. Nếu Correlation giữa hai biến là 1, điều này có nghĩa là gì?\n",
    "Nếu Correlation giữa hai biến là 1, điều này có nghĩa là hai biến có mối quan hệ tuyến tính hoàn hảo và cùng chiều.\n",
    "\n",
    "=> Đáp án là B: Hai biến có mối quan hệ tuyến tính hoàn hảo và cùng chiều."
   ],
   "id": "74463673b2c5d712"
  },
  {
   "metadata": {},
   "cell_type": "markdown",
   "source": [
    "#### 5. Correlation cofficient có giá trị nằm trong khoảng nào?\n",
    "\n",
    "Correlation cofficient có giá trị nằm trong khoảng từ -1 đến 1\n",
    "\n",
    "=> Đáp án là B: -1 đến 1"
   ],
   "id": "454243749ea54f8e"
  },
  {
   "metadata": {},
   "cell_type": "markdown",
   "source": [
    "#### 6. Nếu Correlation giữa hai biến là -0.8, điều này có ý nghĩa là gì?\n",
    "Nếu  Correlation giữa hai biến là -0.8, điều này có ý nghĩa là :\n",
    "- với giá trị âm => hai biến ngược chiều nhau\n",
    "- Với -0.8 gần tiến đến -1 => hai biến có quan hệ tuyến tính mạnh\n",
    "\n",
    "=> Đáp án là C: Hai biến có mối quan hệ tuyến tính mạnh và ngược chiều \n"
   ],
   "id": "51638e12a59cb1d6"
  },
  {
   "metadata": {},
   "cell_type": "markdown",
   "source": [
    "#### 7. Cho biết X và Y là hai biến số, công thức tính covariance là gì?\n",
    "Theo wikipedia ta có công thức tính covariance là:\n",
    "\n",
    "$cov(X,Y)= E[(X-E[X])(Y-E[Y])]$\n",
    "\n",
    "=> Đáp án là A: $cov(X,Y)= E[(X-E[X])(Y-E[Y])]$"
   ],
   "id": "dee406fca2fd86bf"
  },
  {
   "metadata": {},
   "cell_type": "markdown",
   "source": [
    "#### 8. Cho biết Covariance giữa X và Y là 10 và variances của X và Y lần lượt la 4 và 5, tìm correlation giữa X và Y\n",
    "Áp dụng công thức: $corr(X,Y)= \\frac{Cov(X,Y)}{\\sqrt{Var(X).Var(Y)}}$\n",
    "\n",
    "Ta có: \n",
    "\n",
    "$corr(X,Y)=\\frac{10}{\\sqrt{4*5}}=\\frac{10}{2\\sqrt{5}}=\\sqrt{5} \\approx  2.2$\n",
    "\n",
    "=> Đề bài sai vì corr(X,Y) sẽ chạy từ -1 -> 1"
   ],
   "id": "caf049ffebe154eb"
  },
  {
   "metadata": {},
   "cell_type": "markdown",
   "source": [
    "#### 9. Correlation giữa X và Y là 0.6, và variances của X và Y lần lượt là 9 và 16, tìm covariance giữa X và Y\n",
    "\n",
    "Áp dụng công thức: $corr(X,Y)= \\frac{Cov(X,Y)}{\\sqrt{Var(X).Var(Y)}}$\n",
    "\n",
    "Ta có: \n",
    "\n",
    "$Cov(X,Y)=corr(X,Y)*\\sqrt{Var(X).Var(Y)}=0.6*\\sqrt{9*16} = 0.6*12 = 7.2$\n",
    "\n",
    "=> Đáp án là A: 7.2"
   ],
   "id": "a6edcb0bb9972fc5"
  },
  {
   "metadata": {},
   "cell_type": "markdown",
   "source": [
    "#### 10. Nếu Covariance giữa X và Y là 0, điều này có ý nghĩa là gì?\n",
    "\n",
    "Nếu Covariance giữa X và Y là 0, điều này có ý nghĩa là hai biến không có quan hệ tuyến tính\n",
    "\n",
    "=> Đáp án là B: Hai biến không có mối quan hệ tuyến tính"
   ],
   "id": "244c48ee8f3eb2a8"
  },
  {
   "metadata": {},
   "cell_type": "markdown",
   "source": "### Phần 2: bài tập code ",
   "id": "c52500fafcdaf8c4"
  },
  {
   "metadata": {},
   "cell_type": "markdown",
   "source": [
    "#### Bài tập 1: xác suất cơ bản\n",
    "Viết một hàm Python để tính xác suất của một sự kiện dựa trên số lần sự kiện xảy ra và tổng số lần thử nghiệm \n"
   ],
   "id": "ad92a2483a2da6"
  },
  {
   "metadata": {
    "ExecuteTime": {
     "end_time": "2024-08-05T08:45:19.308708Z",
     "start_time": "2024-08-05T08:45:19.302169Z"
    }
   },
   "cell_type": "code",
   "source": [
    "def calculate_probability(event_occurrences, total_trials):\n",
    "\t\"\"\"\n",
    "    Tính xác suất của một sự kiện.\n",
    "    \n",
    "    Parameters :\n",
    "    event_occurrences ( int ): Số lần sự kiện xảy ra.\n",
    "    total_trials (int ): Tổng số lần thử nghiệm.\n",
    "    \n",
    "    Returns :\n",
    "     float : Xác suất của sự kiện.\n",
    "     \"\"\"\n",
    "\t# Your code here #\n",
    "\treturn event_occurrences / total_trials\n"
   ],
   "id": "30e74018359cc370",
   "outputs": [],
   "execution_count": 1
  },
  {
   "metadata": {
    "ExecuteTime": {
     "end_time": "2024-08-05T08:45:26.901774Z",
     "start_time": "2024-08-05T08:45:26.897028Z"
    }
   },
   "cell_type": "code",
   "source": [
    "event_occurrences = 5\n",
    "total_trials = 20\n",
    "probability = calculate_probability(event_occurrences, total_trials)\n",
    "print(f\"Xác suất của sự kiện là: {probability}\")"
   ],
   "id": "cdfb3a68df8c9ce0",
   "outputs": [
    {
     "name": "stdout",
     "output_type": "stream",
     "text": [
      "Xác suất của sự kiện là: 0.25\n"
     ]
    }
   ],
   "execution_count": 2
  },
  {
   "metadata": {},
   "cell_type": "markdown",
   "source": [
    "#### Bài tập 2: Xác suất có điều kiện\n",
    "Viết một hàm Python để tính xác suát có điều kiện P(B|A)"
   ],
   "id": "6d732bb38e0f3096"
  },
  {
   "metadata": {
    "ExecuteTime": {
     "end_time": "2024-08-05T09:10:38.564167Z",
     "start_time": "2024-08-05T09:10:38.559371Z"
    }
   },
   "cell_type": "code",
   "source": [
    "def calculate_conditional_probability(P_A_and_B, P_A):\n",
    "\t\"\"\"\n",
    "\tTính xác suất có điều kiện P(B|A).\n",
    "\t\n",
    "\tParameters :\n",
    "\tP_A_and_B ( float ): Xác suất của sự kiện A và B xảy ra.\n",
    "\tP_A ( float ): Xác suất của sự kiện A.\n",
    "\t\n",
    "\tReturns :\n",
    "\t float : Xác suất có điều kiện P(B|A).\n",
    "\t \"\"\"\n",
    "\t# Your code here #\n",
    "\treturn P_A_and_B / P_A\n",
    "\n",
    "\n"
   ],
   "id": "919f66b335584b3",
   "outputs": [],
   "execution_count": 3
  },
  {
   "metadata": {
    "ExecuteTime": {
     "end_time": "2024-08-05T09:10:40.969710Z",
     "start_time": "2024-08-05T09:10:40.965143Z"
    }
   },
   "cell_type": "code",
   "source": [
    "# Ví dụ sử dụng\n",
    "P_A_and_B = 0.2\n",
    "P_A = 0.5\n",
    "P_B_given_A = calculate_conditional_probability(P_A_and_B, P_A)\n",
    "print(f\"Xác suất có điều kiện P(B|A) là: {P_B_given_A}\")"
   ],
   "id": "d22f928525c765b4",
   "outputs": [
    {
     "name": "stdout",
     "output_type": "stream",
     "text": [
      "Xác suất có điều kiện P(B|A) là: 0.4\n"
     ]
    }
   ],
   "execution_count": 4
  },
  {
   "metadata": {},
   "cell_type": "markdown",
   "source": [
    "#### Bài tập 3: Covariance và Correlation\n",
    "Viết một hàm Python để tính covariance và correlation giữa hai biến số "
   ],
   "id": "491ce3a786498c05"
  },
  {
   "metadata": {
    "ExecuteTime": {
     "end_time": "2024-08-05T09:27:54.330591Z",
     "start_time": "2024-08-05T09:27:54.323855Z"
    }
   },
   "cell_type": "code",
   "source": [
    "import numpy as np\n",
    "\n",
    "\n",
    "def calculate_covariance(X, Y):\n",
    "\t\"\"\"\n",
    "\tTính covariance giữa hai biến X và Y.\n",
    "\t\n",
    "\tParameters :\n",
    "\tX ( list ): Danh sách các giá trị của biến X.\n",
    "\tY ( list ): Danh sách các giá trị của biến Y.\n",
    "\t\n",
    "\t Returns :\n",
    "\t float : Covariance giữa X và Y.\n",
    "\t \"\"\"\n",
    "\tlen_x_y=len(X)\n",
    "\tmean_x = np.mean(X)\n",
    "\tmean_y = np.mean(Y)\n",
    "\tcovariance_x_y = np.einsum('i->', [(xi - mean_x) * (yi - mean_y) for xi, yi in zip(X, Y)])\n",
    "\n",
    "\treturn covariance_x_y/len_x_y\n",
    "\n",
    "\n",
    "def calculate_correlation(X, Y):\n",
    "\t\"\"\"\n",
    "    Tính correlation giữa hai biến X và Y.\n",
    "   \n",
    "    Parameters :\n",
    "    X ( list ): Danh sách các giá trị của biến X.\n",
    "    Y ( list ): Danh sách các giá trị của biến Y.\n",
    "   \n",
    "    Returns :\n",
    "   \tfloat : Correlation giữa X và Y.\n",
    "   \t\"\"\"\n",
    "\tmean_x = np.mean(X)\n",
    "\tmean_y = np.mean(Y)\n",
    "\tvar_x = np.einsum('i->', [(xi - mean_x) ** 2 for xi in X])\n",
    "\tvar_y = np.einsum('i->', [(yi - mean_y) ** 2 for yi in Y])\n",
    "\n",
    "\treturn calculate_covariance(X, Y) / np.sqrt(var_x * var_y)"
   ],
   "id": "8bdddc324d64bc41",
   "outputs": [],
   "execution_count": 9
  },
  {
   "metadata": {
    "ExecuteTime": {
     "end_time": "2024-08-05T09:27:56.089968Z",
     "start_time": "2024-08-05T09:27:56.084801Z"
    }
   },
   "cell_type": "code",
   "source": [
    "# Ví dụ sử dụng\n",
    "X = [2, 4, 6, 8, 10]\n",
    "Y = [1, 3, 5, 7, 9]\n",
    "\n",
    "covariance = calculate_covariance(X, Y)\n",
    "correlation = calculate_correlation(X, Y)\n",
    "\n",
    "print(f\" Covariance giữa X và Y là: {covariance}\")\n",
    "print(f\" Correlation giữa X và Y là: {correlation}\")"
   ],
   "id": "64292c001b362309",
   "outputs": [
    {
     "name": "stdout",
     "output_type": "stream",
     "text": [
      " Covariance giữa X và Y là: 8.0\n",
      " Correlation giữa X và Y là: 0.2\n"
     ]
    }
   ],
   "execution_count": 10
  },
  {
   "metadata": {},
   "cell_type": "code",
   "outputs": [],
   "execution_count": null,
   "source": "",
   "id": "17da7c19dbfff0a2"
  }
 ],
 "metadata": {
  "kernelspec": {
   "display_name": "Python 3",
   "language": "python",
   "name": "python3"
  },
  "language_info": {
   "codemirror_mode": {
    "name": "ipython",
    "version": 2
   },
   "file_extension": ".py",
   "mimetype": "text/x-python",
   "name": "python",
   "nbconvert_exporter": "python",
   "pygments_lexer": "ipython2",
   "version": "2.7.6"
  }
 },
 "nbformat": 4,
 "nbformat_minor": 5
}
