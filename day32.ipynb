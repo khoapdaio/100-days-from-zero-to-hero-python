{
 "cells": [
  {
   "metadata": {},
   "cell_type": "markdown",
   "source": [
    "### Day 32: Bayes Theory\n",
    "\n",
    "#### 1 Lý thuyết về Naive Bayes \n",
    "\n",
    "Naive Bayes là một thuật toán phân loại dựa trên lý thuyết xác suất. Thuật toán này giả định rằng các đặc trưng đầu vào là độc lp với nhau khi lớp đầu ra đã được biết. Thuật toán được gọi là \"naive\" vì giả định này có thể không đúng trong thực tế, nhưng thường vẫn hiệu quả.\n",
    "\n",
    "#### 1.1 Định Lý Bayes\n",
    "\n",
    "Định lý Bayes mô tả xác suất của một sự kiện dựa trên thông tin về các sự kiện khác. Công thức của định lý Bayes là:\n",
    "\n",
    "$$\n",
    "P(C|X) =\\frac{P(X|C).P(C)}{P(X)}\n",
    "$$ \n",
    "\n",
    "Trong đó:\n",
    "- P(C|X) là xác suất của lớp C khi biết các đặc trưng X\n",
    "- P(X|C) là xác suất của các đặc trung X khi lớp là C\n",
    "- P(C) là Xác suất tiên nghiêm của lớp C\n",
    "- p(X) là xác suất của các đặc trưng X\n",
    "\n",
    "#### 1.2 Giả định độc lập \n",
    "Naive Bayes giả định rằng các đặc trưng là độc lập với nhau trong mỗi lớp. Điều này có nghĩa là: \n",
    "\n",
    "$$\n",
    "P(X|C) = P(x_1,x_2,....,x_n|C)= \\displaystyle\\prod_{i=1}^n P(x_i|C)\n",
    "$$\n",
    "Trong đó, $x_i$ là các đặc trưng riêng lẻ\n",
    "\n",
    "#### 1.3 Ưu điểm và nhược điểm \n",
    "##### Ưu điểm:\n",
    "- Đơn giản và dễ triển khai.\n",
    "- Hiệu quả với nhiều đặc trưng\n",
    "- Thường hoạt động tốt với dữ liệu có kích thước lớn và thiếu dữ liệu \n",
    "\n",
    "##### Nhược điểm:\n",
    "- Giả định các đặc trưng độc lập có thể không chính xác trong nhiều tính huống thực tế.\n",
    "- Có thể kém hiệu quả nếu các đặc trung thực tế không độc lập.\n"
   ],
   "id": "c0ef24cd3ca65ade"
  },
  {
   "metadata": {},
   "cell_type": "markdown",
   "source": [
    "### 2. Bài tập toán về Naive Bayes\n",
    "\n",
    "#### Dữ liệu :\n",
    "\n",
    "Một của hàng có hai loại sản phẩm: Sản phẩm A và Sản phẩm B. Trong số 100 sản phầm, 60 là sản phẩm A và 40 là sản phầm B. Các đặc trưng của sản phẩm bao gồm màu sắc(Đỏ và Xanh ) và kích thước(Nhỏ hoặc lớn). Dữ liệu như sau:\n",
    "\n",
    "- Trong số 60 sản phẩm A, 20 sản phẩm là Đỏ và Nhỏ, 10 sản phẩm là Đỏ và Lớn, 15 sản phầm là Xanh và Nhỏ, 15 sản phẩm là Xanh và Lớn.\n",
    "- Trong số 40 sản phầm B, 10 sản phẩm là Đỏ và Nhỏ, 5 sản phầm là Đỏ và Lớn, 10 sản phẩm Xanh và Nhỏ 15 sản phẩm là Xanh và Lớn\n",
    "\n",
    "#### 2.1 Yêu cầu\n",
    "\n",
    "1. Tính xác suất tiên nghiệm của mỗi lớp (Sản phầm A và Sản phẩm B)\n",
    "2. Tính xác suất điều kiện của màu sắc và kích thước của mỗi lớp.\n",
    "3. Dự đoán lớp của một sản phầm mới có đặc trung: Đỏ và Nhỏ "
   ],
   "id": "cb51447b3625523"
  },
  {
   "metadata": {},
   "cell_type": "markdown",
   "source": [
    "##### Bài làm\n",
    "Từ dữ liệu trên ta có bảng sau: \n",
    "\n",
    "| Loại sản phẩm | Màu sắc | Kích thước | Số lượng |\n",
    "|---------------|---------|------------|----------|\n",
    "| A             | Đỏ      | Nhỏ        | 20       |\n",
    "| A             | Đỏ      | Lớn        | 10       |\n",
    "| A             | Xanh    | Nhỏ        | 15       |\n",
    "| A             | Xanh    | Lớn        | 15       |\n",
    "| **Tổng cộng A** |         |            | **60**   |\n",
    "| B             | Đỏ      | Nhỏ        | 10       |\n",
    "| B             | Đỏ      | Lớn        | 5        |\n",
    "| B             | Xanh    | Nhỏ        | 10       |\n",
    "| B             | Xanh    | Lớn        | 15       |\n",
    "| **Tổng cộng B** |         |            | **40**   |\n",
    "\n"
   ],
   "id": "4002c7c5095298b3"
  },
  {
   "metadata": {},
   "cell_type": "markdown",
   "source": [
    "###### Tính xác suất tiên nghiệm của mỗi lớp (Sản phầm A và Sản phẩm B)\n",
    "\n",
    "\n",
    "Xác suất tiên nghiệm của sản phẩm A là: \n",
    "\n",
    "$ P(A) = \\frac{\\text{ Số lượng sản phầm A }}{\\text{Tổng số lượng 2 sản phẩm}} =\\frac{60}{100}=0.6$\n",
    "\n",
    "Xác suất tiên nghiệm của sản phầm B là:\n",
    "\n",
    "$ P(B) = \\frac{\\text{Số lượng sản phẩm B}}{\\text{Tổng số lượng 2 sản phẩm}}=\\frac{40}{100}=0.4$\n"
   ],
   "id": "2bf7242d09d9aa81"
  },
  {
   "metadata": {},
   "cell_type": "markdown",
   "source": [
    "\n",
    "###### Tính xác suất điều kiện của màu sắc và kích thước trong mỗi lớp.\n",
    "\n",
    "Xác suất điều kiện của cho Lớp A là: \n",
    "**Sản phẩm A Đỏ và Nhỏ**\n",
    "\n",
    "$P(\\text{Đỏ và Nhỏ|A}) = \\frac{\\text{Số lượng sản phẩm A có màu đỏ cỡ nhỏ }}{\\text{Số lượng sản tổng sản phẩm A}}= \\frac{20}{60} \\approx 0.333 $,\n",
    "\n",
    "**Sản phẩm A Đỏ và Lớn**\n",
    "\n",
    "$P(\\text{Đỏ và Lớn|A}) = \\frac{\\text{Số lượng sản phẩm A có màu đỏ cỡ lớn }}{\\text{Số lượng sản tổng sản phẩm A}}= \\frac{10}{60} \\approx 0.167 $,\n",
    "\n",
    "**Sản phẩm A Xanh và Nhỏ**\n",
    "\n",
    "$P(\\text{Xanh và Nhỏ|A}) = \\frac{\\text{Số lượng sản phẩm A có màu xanh cỡ nhỏ }}{\\text{Số lượng sản tổng sản phẩm A}}= \\frac{15}{60} = 0.25$,\n",
    "\n",
    "**Sản phẩm A Xanh và Lớn**\n",
    "\n",
    "$P(\\text{Xanh và Lớn|A}) = \\frac{\\text{Số lượng sản phẩm A có màu xanh cỡ lớn }}{\\text{Số lượng sản tổng sản phẩm A}}= \\frac{15}{60} = 0.25$,\n",
    "\n",
    "Xác suất điều kiện của cho Lớp B là: \n",
    "\n",
    "**Sản phẩm B Đỏ và Nhỏ**\n",
    "\n",
    "$P(\\text{Đỏ và Nhỏ|B}) = \\frac{\\text{Số lượng sản phẩm A có màu đỏ cỡ nhỏ }}{\\text{Số lượng sản tổng sản phẩm B}}= \\frac{10}{40} = 0.25 $,\n",
    "\n",
    "**Sản phẩm B Đỏ và Lớn**\n",
    "\n",
    "$P(\\text{Đỏ và Lớn|B}) = \\frac{\\text{Số lượng sản phẩm B có màu đỏ cỡ lớn }}{\\text{Số lượng sản tổng sản phẩm B}}= \\frac{5}{40} = 0.125 $,\n",
    "\n",
    "**Sản phẩm B Xanh và Nhỏ**\n",
    "\n",
    "$P(\\text{Xanh và Nhỏ|B}) = \\frac{\\text{Số lượng sản phẩm B có màu xanh cỡ nhỏ }}{\\text{Số lượng sản tổng sản phẩm B}}= \\frac{10}{40}  = 0.25 $,\n",
    "\n",
    "**Sản phẩm B Xanh và Lớn**\n",
    "\n",
    "$P(\\text{Xanh và Lớn|B}) = \\frac{\\text{Số lượng sản phẩm B có màu xanh cỡ lớn }}{\\text{Số lượng sản tổng sản phẩm B}}= \\frac{15}{40}  = 0.375 $,"
   ],
   "id": "9e67541e3b2e2e54"
  },
  {
   "metadata": {},
   "cell_type": "markdown",
   "source": [
    "###### Dự đoán lớp của một sản phầm mới có đặc trung: Đỏ và Nhỏ \n",
    "\n",
    "Áp dụng tính chất: giả định rằng các đặc trưng Đỏ và Nhỏ là đọc lập với nhau trong mỗi lớp ta có:\n",
    "\n",
    "$P(\\text{A|Đỏ và Nhỏ}) = P(\\text{Đỏ và Nhỏ| A}).P(A) = 0.333 * 0.6 = 0.198$.\n",
    "\n",
    "$P(\\text{B|Đỏ và Nhỏ}) = P(\\text{Đỏ và Nhỏ| B}).P(B) = 0.25 * 0.4 = 0.1$.\n",
    "\n",
    "\n",
    "=> Với xác suất cao hơn, sản phẩm mới có khả năng thuộc lớp A"
   ],
   "id": "6297bc95a08938e7"
  },
  {
   "metadata": {},
   "cell_type": "markdown",
   "source": "Dưới đây là code implement",
   "id": "f5110dcf22a9c80e"
  },
  {
   "metadata": {
    "ExecuteTime": {
     "end_time": "2024-07-31T02:48:00.445909Z",
     "start_time": "2024-07-31T02:48:00.440189Z"
    }
   },
   "cell_type": "code",
   "source": [
    "# Khai báo các thông số có trong đề bài\n",
    "\n",
    "# Tồng hai loại sản phầm\n",
    "prods = 100\n",
    "\n",
    "# Số lượng sản phẩm A\n",
    "prod_a = 60\n",
    "# Số lượng sản phẩm B\n",
    "prod_b = 40\n",
    "\n",
    "# Số lượng sản phẩm A màu đỏ cỡ nhỏ\n",
    "prod_a_red_small = 20\n",
    "# Số lượng sản phẩm A màu đỏ cỡ lớn\n",
    "prod_a_red_big = 10\n",
    "# Số lượng sản phẩm A màu xanh cỡ nhỏ\n",
    "prod_a_blue_small = 15\n",
    "# Số lượng sản phẩm A màu xanh cỡ lớn\n",
    "prod_a_blue_big = 15\n",
    "\n",
    "# Số lượng sản phẩm  B màu đỏ cỡ nhỏ\n",
    "prod_b_red_small = 10\n",
    "# Số lượng sản phẩm B màu đỏ cỡ lớn\n",
    "prod_b_red_big = 5\n",
    "# Số lượng sản phẩm B màu xanh cỡ nhỏ\n",
    "prod_b_blue_small = 10\n",
    "# Số lượng sản phẩm B màu xanh cỡ lớn\n",
    "prod_b_blue_big = 15\n"
   ],
   "id": "15419b6e8587dbdd",
   "outputs": [],
   "execution_count": 1
  },
  {
   "metadata": {
    "ExecuteTime": {
     "end_time": "2024-07-31T02:48:03.322375Z",
     "start_time": "2024-07-31T02:48:03.317598Z"
    }
   },
   "cell_type": "code",
   "source": [
    "# Bài 1: Xác suất tiên nghiệm\n",
    "\n",
    "P_a = prod_a / prods\n",
    "print(\"Xác suất tiên nghiệm của sản phẩm A là: \", P_a)\n",
    "\n",
    "P_b = prod_b / prods\n",
    "print(\"Xác suất tiên nghiệm của sản phẩm B là: \", P_b)\n"
   ],
   "id": "5eb8cc119df811ef",
   "outputs": [
    {
     "name": "stdout",
     "output_type": "stream",
     "text": [
      "Xác suất tiên nghiệm của sản phẩm A là:  0.6\n",
      "Xác suất tiên nghiệm của sản phẩm B là:  0.4\n"
     ]
    }
   ],
   "execution_count": 2
  },
  {
   "metadata": {
    "ExecuteTime": {
     "end_time": "2024-07-31T02:52:48.255150Z",
     "start_time": "2024-07-31T02:52:48.248042Z"
    }
   },
   "cell_type": "code",
   "source": [
    "# Bài 2: Xác suất điều kiện\n",
    "print(\"Xác suất điều kiện với Sản phẩm (Class) A\")\n",
    "P_red_small_a = prod_a_red_small / prod_a\n",
    "print(\"Xác suất khi sản phầm có màu đỏ và cỡ nhỏ khi là sản phẩm A là: \", round(P_red_small_a,3))\n",
    "\n",
    "P_red_big_a = prod_a_red_big / prod_a\n",
    "print(\"Xác suất khi sản phầm có màu đỏ và cỡ lớn khi là sản phẩm A là: \", round(P_red_big_a,3))\n",
    "\n",
    "P_blue_small_a = prod_a_blue_small / prod_a\n",
    "print(\"Xác suất khi sản phầm có màu xanh và cỡ nhỏ khi là sản phẩm A là: \", round(P_blue_small_a,3))\n",
    "\n",
    "P_blue_big_a = prod_a_blue_big / prod_a\n",
    "print(\"Xác suất khi sản phầm có màu xanh và cỡ lớn khi là sản phẩm A là: \", P_blue_big_a)\n",
    "\n",
    "print(\"============================================================================\")\n",
    "print(\"Xác suất điều kiện với Sản phẩm (Class) b\")\n",
    "P_red_small_b = prod_b_red_small / prod_b\n",
    "print(\"Xác suất khi sản phầm có màu đỏ và cỡ nhỏ khi là sản phẩm B là: \", P_red_small_b)\n",
    "\n",
    "P_red_big_b = prod_b_red_big / prod_b\n",
    "print(\"Xác suất khi sản phầm có màu đỏ và cỡ lớn khi là sản phẩm B là: \", P_red_big_b)\n",
    "\n",
    "P_blue_small_b = prod_b_red_small / prod_b\n",
    "print(\"Xác suất khi sản phầm có màu xanh và cỡ nhỏ khi là sản phẩm B là: \", P_blue_small_b)\n",
    "\n",
    "P_blue_big_b = prod_b_blue_big / prod_b\n",
    "print(\"Xác suất khi sản phầm có màu xanh và cỡ lớn khi là sản phẩm B là: \", P_blue_big_b)"
   ],
   "id": "885981e3557765a2",
   "outputs": [
    {
     "name": "stdout",
     "output_type": "stream",
     "text": [
      "Xác suất điều kiện với Sản phẩm (Class) A\n",
      "Xác suất khi sản phầm có màu đỏ và cỡ nhỏ khi là sản phẩm A là:  0.333\n",
      "Xác suất khi sản phầm có màu đỏ và cỡ lớn khi là sản phẩm A là:  0.167\n",
      "Xác suất khi sản phầm có màu xanh và cỡ nhỏ khi là sản phẩm A là:  0.25\n",
      "Xác suất khi sản phầm có màu xanh và cỡ lớn khi là sản phẩm A là:  0.25\n",
      "============================================================================\n",
      "Xác suất điều kiện với Sản phẩm (Class) b\n",
      "Xác suất khi sản phầm có màu đỏ và cỡ nhỏ khi là sản phẩm B là:  0.25\n",
      "Xác suất khi sản phầm có màu đỏ và cỡ lớn khi là sản phẩm B là:  0.125\n",
      "Xác suất khi sản phầm có màu xanh và cỡ nhỏ khi là sản phẩm B là:  0.25\n",
      "Xác suất khi sản phầm có màu xanh và cỡ lớn khi là sản phẩm B là:  0.375\n"
     ]
    }
   ],
   "execution_count": 9
  },
  {
   "metadata": {
    "ExecuteTime": {
     "end_time": "2024-07-31T02:57:02.715160Z",
     "start_time": "2024-07-31T02:57:02.709657Z"
    }
   },
   "cell_type": "code",
   "source": [
    "# Câu 3: Dự đoán Sản phẩm \n",
    "\n",
    "# Xác suất Sản phẩm A là sản phâm có màu đỏ và cơ nhỏ\n",
    "P_a_red_small = P_red_small_a * P_a\n",
    "print(\"P(A|Đỏ và Nhỏ)= \",P_a_red_small)\n",
    "# Xác suất Sản phẩm B là sản phâm có màu đỏ và cơ nhỏ\n",
    "P_b_red_small = P_red_small_b * P_b\n",
    "print(\"P(B|Đỏ và Nhỏ)= \",P_b_red_small)\n",
    "\n",
    "\n",
    "if P_a_red_small < P_b_red_small:\n",
    "    print(\"Sản phẩm mới có khả năng thuộc nhóm sản phẩm B\")\n",
    "else:\n",
    "    print(\"Sản phẩm mới có khả năng thuộc nhóm sản phẩm A\")\n"
   ],
   "id": "886c44e626285089",
   "outputs": [
    {
     "name": "stdout",
     "output_type": "stream",
     "text": [
      "P(A|Đỏ và Nhỏ)=  0.19999999999999998\n",
      "P(B|Đỏ và Nhỏ)=  0.1\n",
      "Sản phẩm mới có khả năng thuộc nhóm sản phẩm A\n"
     ]
    }
   ],
   "execution_count": 11
  },
  {
   "metadata": {},
   "cell_type": "code",
   "outputs": [],
   "execution_count": null,
   "source": "",
   "id": "dc7caaea566072d0"
  }
 ],
 "metadata": {
  "kernelspec": {
   "display_name": "Python 3",
   "language": "python",
   "name": "python3"
  },
  "language_info": {
   "codemirror_mode": {
    "name": "ipython",
    "version": 2
   },
   "file_extension": ".py",
   "mimetype": "text/x-python",
   "name": "python",
   "nbconvert_exporter": "python",
   "pygments_lexer": "ipython2",
   "version": "2.7.6"
  }
 },
 "nbformat": 4,
 "nbformat_minor": 5
}
