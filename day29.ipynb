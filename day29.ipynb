{
 "cells": [
  {
   "metadata": {},
   "cell_type": "markdown",
   "source": "### Day 29: Einsum in Numpy",
   "id": "b882b6da89ffd7b4"
  },
  {
   "metadata": {},
   "cell_type": "markdown",
   "source": [
    "#### 1. Correlation (Tương quan)\n",
    "\n",
    "Correlation là một phép đô thống kê cho biết mức độ và hướng của mối quan hệ giữa hai biến số. Khi hai biến số có mỗi quan hệ tương quan, giá trị của một biến có thể ảnh hưởng đến giá trị của biến còn lại:\n",
    "\n",
    "- Positive Correlation(Tương quan dương): Khi giá trị của một biến tăng thì giá trị của biến kia cũng tăng \n",
    "- Negative Correlation(Tương quan âm): Khi giá trị của một biến tăng thì giá trị của biến kia giảm.\n",
    "- No Correlation(Không tương quan): Không có mối quan hệ rõ ràng giữa hai biến\n",
    "\n",
    "#### 2. Correlation Coefficient (Hệ số tương quan)\n",
    "\n",
    "Hệ số tương quan là một giá trị từ -1 đến 1 cho biết mức độ của mối quan hệ tương quan:\n",
    "\n",
    "- 1: Mối quan hệ tương quan hoàn hảo dương\n",
    "- 0: Không có mối quan hệ tương quan\n",
    "- 1: Mối quan hệ tương quan hoàn hảo âm\n",
    "\n",
    "$$\n",
    "\\tau = \\frac{\\displaystyle\\sum (X-\\overline{X})(Y-\\overline{Y})}{\\sqrt{\\displaystyle\\sum (X-\\overline{X})^2 * \\displaystyle\\sum (Y-\\overline{Y})^2}}\n",
    "$$\n",
    "\n",
    "Trong đó:\n",
    "- X và Y là hai biến\n",
    "- $\\overline{X}\\text{ và }\\overline{Y}$ là giá trị trung bình của X và Y "
   ],
   "id": "aeb7388450e19059"
  },
  {
   "metadata": {},
   "cell_type": "markdown",
   "source": [
    "#### 3. Bài tập tính hệ số tương quan giữa hai biến số\n",
    " 1. Tạo hai mảng dữ liệu (array) với numpy.\n",
    "2. Tính toán hệ số tương quan giữa hai mảng dữ liệu này "
   ],
   "id": "a7a16a5c4530acdd"
  },
  {
   "metadata": {
    "ExecuteTime": {
     "end_time": "2024-07-30T07:35:26.524217Z",
     "start_time": "2024-07-30T07:35:26.518049Z"
    }
   },
   "cell_type": "code",
   "source": [
    "import numpy as np\n",
    "\n",
    "# Tạo hai mảng dữ liệu\n",
    "X = np.array([1, 2, 3, 4, 5])\n",
    "Y = np.array([2, 4, 6, 8, 10])\n",
    "\n",
    "# Tính toán hệ số tương quan\n",
    "## Your code Here ##\n",
    "mean_x = X.mean()\n",
    "mean_y = Y.mean()\n",
    "\n",
    "numerator = np.einsum('i,i->', X - mean_x, Y - mean_y)\n",
    "denominator = np.sqrt(np.einsum('i,i->', X - mean_x, X - mean_x) * np.einsum('i,i->', Y - mean_y, Y - mean_y))\n",
    "result = numerator / denominator\n",
    "\n",
    "print(f\"X mean = {mean_x}, Y mean = {mean_y}\")\n",
    "print(\"Hệ số tương quan giữa X và Y là:\", result)"
   ],
   "id": "e4e3ca45e054463a",
   "outputs": [
    {
     "name": "stdout",
     "output_type": "stream",
     "text": [
      "X mean = 3.0, Y mean = 6.0\n",
      "Hệ số tương quan giữa X và Y là: 1.0\n"
     ]
    }
   ],
   "execution_count": 7
  },
  {
   "metadata": {},
   "cell_type": "markdown",
   "source": [
    "#### 3.1 Bài tập mở rộng\n",
    "Hãy tạo hai mảng dữ liệu mới và tính hệ số tương quan giữa chúng."
   ],
   "id": "83f2c6de4e83d645"
  },
  {
   "metadata": {
    "ExecuteTime": {
     "end_time": "2024-07-30T07:41:23.420274Z",
     "start_time": "2024-07-30T07:41:23.414292Z"
    }
   },
   "cell_type": "code",
   "source": [
    "import numpy as np\n",
    "\n",
    "# Tạo hai mảng dữ liệu mới\n",
    "X_new = np.array([10, 20, 30, 40, 50])\n",
    "Y_new = np.array([5, 15, 25, 35, 45])\n",
    "# Tính toán hệ số tương quan\n",
    "## Your code Here ##\n",
    "x_new_mean = np.einsum('i->', X_new) / len(X_new)\n",
    "y_new_mean = np.einsum('i->', Y_new) / len(Y_new)\n",
    "\n",
    "numerator = np.einsum('i,i->', X_new - x_new_mean, Y_new - y_new_mean)\n",
    "\n",
    "denominator = np.sqrt(np.einsum('i,i->', X_new - x_new_mean, X_new - x_new_mean)\n",
    "                      * np.einsum('i,i->', Y_new - y_new_mean, Y_new - y_new_mean))\n",
    "result= numerator/denominator\n",
    "\n",
    "print(\"Hệ số tương quan giữa X_new và Y_new là: \", result)"
   ],
   "id": "a69cb156ff31f0dd",
   "outputs": [
    {
     "name": "stdout",
     "output_type": "stream",
     "text": [
      "Hệ số tương quan giữa X_new và Y_new là:  1.0\n"
     ]
    }
   ],
   "execution_count": 9
  },
  {
   "metadata": {},
   "cell_type": "code",
   "outputs": [],
   "execution_count": null,
   "source": "",
   "id": "73d71d1f958c33c3"
  }
 ],
 "metadata": {
  "kernelspec": {
   "display_name": "Python 3",
   "language": "python",
   "name": "python3"
  },
  "language_info": {
   "codemirror_mode": {
    "name": "ipython",
    "version": 2
   },
   "file_extension": ".py",
   "mimetype": "text/x-python",
   "name": "python",
   "nbconvert_exporter": "python",
   "pygments_lexer": "ipython2",
   "version": "2.7.6"
  }
 },
 "nbformat": 4,
 "nbformat_minor": 5
}
