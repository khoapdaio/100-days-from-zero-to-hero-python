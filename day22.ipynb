{
 "cells": [
  {
   "metadata": {},
   "cell_type": "markdown",
   "source": [
    "# 1. Attention là gì?\n",
    "Attention cho phép mô hình tập trung vào các phần khác nhau của chuỗi đầu vào khi tạo ra mỗi phần tử của chuỗi đầu ra. Điều này giúp mô hình đánh giá tầm quan trọng của mỗi từ trong cầu và cải thiện khả năng hiểu ngữ cảnh.\n",
    "# 2. Công thức Attention\n",
    "Công thức cho cơ chế Attention được biểu diễn như sau:\n",
    "\n",
    "$$\n",
    "\\text{Attention}(Q, K, V) = \\text{softmax}\\left(\\frac{QK^T}{\\sqrt{d_k}}\\right) V\n",
    "$$\n",
    "\n",
    "Trong đó: \n",
    "- Q là ma trận Query\n",
    "- K là ma trận key\n",
    "- V là ma trận value\n",
    "- d_k là kích thước chiều của vector key\n",
    "- softmax là hàm softmax, được tính toán như sau:\n",
    "$$\n",
    "    \\text{Hàm kích hoạt Softmax}(x_i) = \\frac{e^{x_i}}{\\sum_{j=1}^{n} e^{x_j}}\n",
    "$$"
   ],
   "id": "266b60a44124b25e"
  },
  {
   "metadata": {},
   "cell_type": "markdown",
   "source": "# 3. Bài tập: Hãy viết hàm tính attention score của cầu đầu vào: \"Tôi thích học AI\" với tập Vocab được cho sẵn như sau:",
   "id": "280a43c384d2d5c8"
  },
  {
   "metadata": {
    "ExecuteTime": {
     "end_time": "2024-07-17T02:59:11.722611Z",
     "start_time": "2024-07-17T02:59:11.718220Z"
    }
   },
   "cell_type": "code",
   "source": [
    "import numpy as np\n",
    "\n",
    "# Giúp kết quả giống nhau trên mọi máy khi tạo random\n",
    "np.random.seed(42)\n"
   ],
   "id": "91991a04adb72f20",
   "outputs": [],
   "execution_count": 38
  },
  {
   "metadata": {},
   "cell_type": "markdown",
   "source": "### Bước 1: Tạo từ điển và mã hóa từ ",
   "id": "50987af0bb5fe6c5"
  },
  {
   "metadata": {
    "ExecuteTime": {
     "end_time": "2024-07-17T02:59:14.072685Z",
     "start_time": "2024-07-17T02:59:14.065998Z"
    }
   },
   "cell_type": "code",
   "source": [
    "vocab = {\n",
    "\t\"Tôi\": 0,\n",
    "\t\"thích\": 1,\n",
    "\t\"học\": 2,\n",
    "\t\"AI\": 3\n",
    "}\n",
    "\n",
    "# Số lượng từ vựng\n",
    "vocab_size = len(vocab)\n",
    "# Kích thước vector embedding\n",
    "embedding_dim = 4\n",
    "# Khởi tạo ma trận embedding ngẫu nhi ên\n",
    "embedding_matrix = np.random.rand(vocab_size, embedding_dim)\n",
    "\n",
    "# Chuỗi đầu vào được mã hóa thành các vector embedding\n",
    "input_seq = np.array([embedding_matrix[vocab[word]] for word in [\"Tôi\", \"thích\", \"học\", \"AI\"]])\n",
    "print(\" Chuỗi đầu vào (đã mã hóa):\\n\", input_seq)\n"
   ],
   "id": "aba97ba352249b18",
   "outputs": [
    {
     "name": "stdout",
     "output_type": "stream",
     "text": [
      " Chuỗi đầu vào (đã mã hóa):\n",
      " [[0.37454012 0.95071431 0.73199394 0.59865848]\n",
      " [0.15601864 0.15599452 0.05808361 0.86617615]\n",
      " [0.60111501 0.70807258 0.02058449 0.96990985]\n",
      " [0.83244264 0.21233911 0.18182497 0.18340451]]\n"
     ]
    }
   ],
   "execution_count": 39
  },
  {
   "metadata": {},
   "cell_type": "markdown",
   "source": "### Bước 2: Tạo ma trận trọng số cho Q, K, V",
   "id": "68b14f1d65a3f67c"
  },
  {
   "metadata": {
    "ExecuteTime": {
     "end_time": "2024-07-17T02:59:16.535332Z",
     "start_time": "2024-07-17T02:59:16.528865Z"
    }
   },
   "cell_type": "code",
   "source": [
    "W_q = np.random.rand(embedding_dim, embedding_dim)\n",
    "W_k = np.random.rand(embedding_dim, embedding_dim)\n",
    "W_v = np.random.rand(embedding_dim, embedding_dim)\n",
    "\n",
    "# Tính toán Q, K, V\n",
    "Q = np.dot(input_seq, W_q)\n",
    "K = np.dot(input_seq, W_k)\n",
    "V = np.dot(input_seq, W_v)\n",
    "\n",
    "print(\"Ma trận Query Q:\\n\", Q)\n",
    "print(\"Ma trận Key K:\\n\", K)\n",
    "print(\"Ma trận Value V:\\n\", V)"
   ],
   "id": "e7db5596861de31a",
   "outputs": [
    {
     "name": "stdout",
     "output_type": "stream",
     "text": [
      "Ma trận Query Q:\n",
      " [[1.3841427  0.93171313 0.94939871 0.93588465]\n",
      " [0.68253872 0.18947216 0.65080307 0.28016014]\n",
      " [1.20009753 0.47542591 1.05988217 0.61045127]\n",
      " [0.57476093 0.61773344 0.56933533 0.44500006]]\n",
      "Ma trận Key K:\n",
      " [[0.55821718 1.20734506 1.22395873 1.69819667]\n",
      " [0.28890481 0.76590281 0.52938731 0.69807356]\n",
      " [0.50829749 1.29232814 1.36798207 1.32073669]\n",
      " [0.18848415 1.02217749 1.01254462 1.02712599]]\n",
      "Ma trận Value V:\n",
      " [[1.39542095 1.22586424 1.46081725 1.6184706 ]\n",
      " [0.57365664 0.41484836 0.96500202 0.59265008]\n",
      " [1.3726727  1.0119398  1.81092011 1.47141317]\n",
      " [0.74197263 0.42928879 1.09429878 0.96558692]]\n"
     ]
    }
   ],
   "execution_count": 40
  },
  {
   "metadata": {},
   "cell_type": "markdown",
   "source": "### Bước 3: Tính toàn Attention score",
   "id": "e05a3df4dbde10f2"
  },
  {
   "metadata": {
    "ExecuteTime": {
     "end_time": "2024-07-17T02:59:19.804628Z",
     "start_time": "2024-07-17T02:59:19.799646Z"
    }
   },
   "cell_type": "code",
   "source": [
    "scores = np.dot(Q, K.T)  # Your code here #\n",
    "\n",
    "# Chia cho căn bậc hai của kích thước chi ều của vector key\n",
    "d_k = K.shape[-1]  # Your code here #\n",
    "scores = scores / np.sqrt(d_k)\n",
    "\n",
    "print(\"Điểm số:\\n\", scores)"
   ],
   "id": "655ae0b3aaf86210",
   "outputs": [
    {
     "name": "stdout",
     "output_type": "stream",
     "text": [
      "Điểm số:\n",
      " [[2.32444626 1.13470157 2.22122649 1.56792258]\n",
      " [0.94104311 0.44120262 0.92604881 0.63452441]\n",
      " [1.78891827 0.84903602 1.74027902 1.20617869]\n",
      " [1.2595997  0.62560832 1.22851614 0.88665755]]\n"
     ]
    }
   ],
   "execution_count": 41
  },
  {
   "metadata": {},
   "cell_type": "markdown",
   "source": "### Bước 4: Áp dụng hàm softmax",
   "id": "5829d0d523393e2d"
  },
  {
   "metadata": {
    "ExecuteTime": {
     "end_time": "2024-07-17T02:59:23.457166Z",
     "start_time": "2024-07-17T02:59:23.450667Z"
    }
   },
   "cell_type": "code",
   "source": [
    "def softmax(x):\n",
    "\t# Your code here #\n",
    "\treturn np.exp(x) / np.sum(np.exp(x), axis=0)\n",
    "\n",
    "attention_weights = softmax(scores)\n",
    "\n",
    "print(\"Trọng số Attention :\\n\", attention_weights)"
   ],
   "id": "dab1688b1d59f81",
   "outputs": [
    {
     "name": "stdout",
     "output_type": "stream",
     "text": [
      "Trọng số Attention :\n",
      " [[0.45853371 0.35058462 0.44196599 0.38525959]\n",
      " [0.11496534 0.17523066 0.12103203 0.15148994]\n",
      " [0.26840736 0.26346922 0.27322222 0.26831817]\n",
      " [0.1580936  0.2107155  0.16377976 0.1949323 ]]\n"
     ]
    }
   ],
   "execution_count": 42
  },
  {
   "metadata": {},
   "cell_type": "markdown",
   "source": "### Bước 5: Tính toàn tổng có trọng số của các value",
   "id": "4c7ef39935020282"
  },
  {
   "metadata": {
    "ExecuteTime": {
     "end_time": "2024-07-17T02:59:26.574731Z",
     "start_time": "2024-07-17T02:59:26.570119Z"
    }
   },
   "cell_type": "code",
   "source": [
    "output = np.dot(attention_weights,V) # Your code here #\n",
    "\n",
    "print(\"Đầu ra :\\n\", output)"
   ],
   "id": "d056c60719f0a55a",
   "outputs": [
    {
     "name": "stdout",
     "output_type": "stream",
     "text": [
      "Đầu ra :\n",
      " [[1.73348946 1.32017013 2.23010301 1.97221352]\n",
      " [0.53948603 0.40113611 0.72199589 0.61428331]\n",
      " [1.09981154 0.83000118 1.43474629 1.25166176]\n",
      " [0.7109359  0.53063377 0.94419297 0.80996217]]\n"
     ]
    }
   ],
   "execution_count": 43
  },
  {
   "metadata": {},
   "cell_type": "code",
   "outputs": [],
   "execution_count": null,
   "source": "",
   "id": "d9733650ce55cdca"
  }
 ],
 "metadata": {
  "kernelspec": {
   "display_name": "Python 3",
   "language": "python",
   "name": "python3"
  },
  "language_info": {
   "codemirror_mode": {
    "name": "ipython",
    "version": 2
   },
   "file_extension": ".py",
   "mimetype": "text/x-python",
   "name": "python",
   "nbconvert_exporter": "python",
   "pygments_lexer": "ipython2",
   "version": "2.7.6"
  }
 },
 "nbformat": 4,
 "nbformat_minor": 5
}
