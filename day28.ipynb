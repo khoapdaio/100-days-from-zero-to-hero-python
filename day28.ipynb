{
 "cells": [
  {
   "metadata": {},
   "cell_type": "markdown",
   "source": "## Day 28: Enisum in NumPy",
   "id": "950452d671d7cfca"
  },
  {
   "metadata": {},
   "cell_type": "markdown",
   "source": [
    "### 1. Khái niệm Enisum trong Python\n",
    "\n",
    "Enisum là một hàm trong thư viện NumPy của Python, viết tắt của \"Einstein summation\" giúp chúng ta thực hiện các phép tính trên ma trận một cách ngắn gọn và hiệu quả. einsum cho phép bạn chỉ định các phép toán trên các mảng đa chiều bằng cách sử dụng ký hiệu Einstein. Ký hiệu này cho phép bn mô tả các phép tính như tổng, nhân chéo, và nhiều phép toán phức tạp khác một cách trực quan và ngắn gọn. cú pháp của einsum là \n",
    "\n",
    "> numpy.einsum(subcripts, *operands, out=None)\n",
    "\n",
    "Trong đó: \n",
    "- subcripts là một chuỗi mô tả các phép toán.\n",
    "- operands là các mảng đầu vào bạn muốn thực hiện phép tính  "
   ],
   "id": "36882d0602a0247f"
  },
  {
   "metadata": {},
   "cell_type": "markdown",
   "source": "### 2. Bài tập",
   "id": "d8690b88f21ec2e2"
  },
  {
   "metadata": {
    "ExecuteTime": {
     "end_time": "2024-07-20T11:24:29.376976Z",
     "start_time": "2024-07-20T11:24:28.630944Z"
    }
   },
   "cell_type": "code",
   "source": "import numpy as np",
   "id": "6e03233750c75674",
   "outputs": [],
   "execution_count": 1
  },
  {
   "metadata": {},
   "cell_type": "markdown",
   "source": [
    "#### Bài tập 1: tính tổng của các cột trong ma trận\n",
    "sử dụng einsum để tính tổng của từng cột trong ma trận 2d"
   ],
   "id": "98bd560577ad21fb"
  },
  {
   "metadata": {
    "ExecuteTime": {
     "end_time": "2024-07-20T11:25:36.768504Z",
     "start_time": "2024-07-20T11:25:36.763069Z"
    }
   },
   "cell_type": "code",
   "source": [
    "A = np.arange(1, 10).reshape(3, 3)\n",
    "\n",
    "column_sums = np.einsum('ij ->j', A)\n",
    "print(column_sums)"
   ],
   "id": "d1105fd5b546e2c5",
   "outputs": [
    {
     "name": "stdout",
     "output_type": "stream",
     "text": [
      "[12 15 18]\n"
     ]
    }
   ],
   "execution_count": 5
  },
  {
   "metadata": {},
   "cell_type": "markdown",
   "source": [
    "#### Bài tập 2: Tính tích vô hướng của hai ma trận\n",
    "Sử dụng einsum để tính tích vô hướng (dot product) của hai ma trận 2D"
   ],
   "id": "abe07efee00d284e"
  },
  {
   "metadata": {
    "ExecuteTime": {
     "end_time": "2024-07-20T12:11:26.766232Z",
     "start_time": "2024-07-20T12:11:26.761473Z"
    }
   },
   "cell_type": "code",
   "source": [
    "A = np.array([[1, 2], [3, 4]])\n",
    "B = np.array([[5, 6], [7, 8]])\n",
    "dot_product = np.einsum('ij,ij->', A, B)\n",
    "print(dot_product)"
   ],
   "id": "1171bab4639a4289",
   "outputs": [
    {
     "name": "stdout",
     "output_type": "stream",
     "text": [
      "70\n"
     ]
    }
   ],
   "execution_count": 52
  },
  {
   "metadata": {},
   "cell_type": "markdown",
   "source": [
    "#### Bài tập 3: Tính tổng các phần tử trên đường chéo chính của ma trận\n",
    "Sử dụng einsum để tính tổng các phần tử trên đường chéo chính của ma trận 2D"
   ],
   "id": "a25599f4706843a9"
  },
  {
   "metadata": {
    "ExecuteTime": {
     "end_time": "2024-07-20T11:59:18.541347Z",
     "start_time": "2024-07-20T11:59:18.535843Z"
    }
   },
   "cell_type": "code",
   "source": [
    "A = np.arange(1, 10).reshape(3, 3)\n",
    "print(\"Ma trận: \\n\", A)\n",
    "diagonal_sum = np.einsum('ii->', A)\n",
    "print(\"Tổng các phần tử trên đường chéo chính của ma trận là: \", diagonal_sum)"
   ],
   "id": "5c3bf69732cbb3fc",
   "outputs": [
    {
     "name": "stdout",
     "output_type": "stream",
     "text": [
      "Ma trận: \n",
      " [[1 2 3]\n",
      " [4 5 6]\n",
      " [7 8 9]]\n",
      "Tổng các phần tử trên đường chéo chính của ma trận là:  15\n"
     ]
    }
   ],
   "execution_count": 31
  },
  {
   "metadata": {},
   "cell_type": "markdown",
   "source": [
    "#### Bài tập 4: Nhân hai ma trận 2D\n",
    "Sử dụng einsum để thực hiện phép nhân hai ma trận 2D"
   ],
   "id": "8894235f64aa8516"
  },
  {
   "metadata": {
    "ExecuteTime": {
     "end_time": "2024-07-20T12:05:03.962787Z",
     "start_time": "2024-07-20T12:05:03.957032Z"
    }
   },
   "cell_type": "code",
   "source": [
    "A = np.array([[1, 2], [3, 4]])\n",
    "B = np.array([[5, 6], [7, 8]])\n",
    "C = np.einsum('ij,jk->ik', A, B)\n",
    "print(\"Tích hai ma trận: \\n\", C)"
   ],
   "id": "dd69965e288f038b",
   "outputs": [
    {
     "name": "stdout",
     "output_type": "stream",
     "text": [
      "Tích hai ma trận: \n",
      " [[19 22]\n",
      " [43 50]]\n"
     ]
    }
   ],
   "execution_count": 35
  },
  {
   "metadata": {},
   "cell_type": "markdown",
   "source": [
    "#### Bài tập 5: Tính tích ngoài của hai vector\n",
    "Sử dụng einsum để tính tích ngoài (outer product) của hai vector"
   ],
   "id": "d98f422415a2be98"
  },
  {
   "metadata": {
    "ExecuteTime": {
     "end_time": "2024-07-20T12:08:19.078768Z",
     "start_time": "2024-07-20T12:08:19.073742Z"
    }
   },
   "cell_type": "code",
   "source": [
    "A = np.array([1, 2, 3])\n",
    "B = np.array([4, 5, 6])\n",
    "outer_product = np.einsum('i,j->ij', A, B)\n",
    "print(\"Tích ngoài của hai vector: \\n\", outer_product)"
   ],
   "id": "4ccdfa50b730901c",
   "outputs": [
    {
     "name": "stdout",
     "output_type": "stream",
     "text": [
      "Tích ngoài của hai vector: \n",
      " [ 4 10 18]\n"
     ]
    }
   ],
   "execution_count": 39
  },
  {
   "metadata": {},
   "cell_type": "markdown",
   "source": [
    "#### Bài tập 6: Tính ma trận Gram của một tensor 3D\n",
    "Sử dụng einsum để tính ma trận Gram của một tensor 3D có kích thước (chanels, height, width) \n"
   ],
   "id": "5b6cae8ef83f313b"
  },
  {
   "metadata": {
    "ExecuteTime": {
     "end_time": "2024-07-20T12:22:55.290745Z",
     "start_time": "2024-07-20T12:22:55.286468Z"
    }
   },
   "cell_type": "code",
   "source": [
    "def gram_matrix(tensor):\n",
    "\tchannels, height, width = tensor.shape\n",
    "\tfeatures = tensor.reshape(channels, height * width)\n",
    "\tgram = np.einsum('ik,jk->ij', features, features)\n",
    "\treturn gram\n"
   ],
   "id": "490cffbc446218d",
   "outputs": [],
   "execution_count": 55
  },
  {
   "metadata": {
    "ExecuteTime": {
     "end_time": "2024-07-20T12:22:57.631813Z",
     "start_time": "2024-07-20T12:22:57.610472Z"
    }
   },
   "cell_type": "code",
   "source": [
    "tensor = np.random.rand(3, 4, 4)\n",
    "gram = gram_matrix(tensor)\n",
    "print(gram)"
   ],
   "id": "f3d166932b5f3beb",
   "outputs": [
    {
     "name": "stdout",
     "output_type": "stream",
     "text": [
      "[[4.70774163 3.68145184 3.33441414]\n",
      " [3.68145184 4.57090561 3.41608804]\n",
      " [3.33441414 3.41608804 5.65283441]]\n"
     ]
    }
   ],
   "execution_count": 56
  },
  {
   "metadata": {},
   "cell_type": "code",
   "outputs": [],
   "execution_count": null,
   "source": "",
   "id": "fdf1db6a476fb6d2"
  }
 ],
 "metadata": {
  "kernelspec": {
   "display_name": "Python 3",
   "language": "python",
   "name": "python3"
  },
  "language_info": {
   "codemirror_mode": {
    "name": "ipython",
    "version": 2
   },
   "file_extension": ".py",
   "mimetype": "text/x-python",
   "name": "python",
   "nbconvert_exporter": "python",
   "pygments_lexer": "ipython2",
   "version": "2.7.6"
  }
 },
 "nbformat": 4,
 "nbformat_minor": 5
}
